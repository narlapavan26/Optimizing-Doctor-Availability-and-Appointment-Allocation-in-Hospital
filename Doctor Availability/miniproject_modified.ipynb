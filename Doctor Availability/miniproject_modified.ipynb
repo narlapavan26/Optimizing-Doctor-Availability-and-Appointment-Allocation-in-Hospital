{
  "cells": [
    {
      "cell_type": "markdown",
      "id": "bedc7838-b658-4c4f-a929-10b49232b5d3",
      "metadata": {
        "id": "bedc7838-b658-4c4f-a929-10b49232b5d3"
      },
      "source": [
        "# Data Acquistition"
      ]
    },
    {
      "cell_type": "code",
      "execution_count": 24,
      "id": "bc61efda-2aa7-4138-afac-3f96bfe063f9",
      "metadata": {
        "colab": {
          "base_uri": "https://localhost:8080/",
          "height": 330
        },
        "id": "bc61efda-2aa7-4138-afac-3f96bfe063f9",
        "outputId": "3649e7e0-2a60-4e49-d090-749247c15866"
      },
      "outputs": [
        {
          "ename": "FileNotFoundError",
          "evalue": "[Errno 2] No such file or directory: 'KaggleV2-May-2016.csv'",
          "output_type": "error",
          "traceback": [
            "\u001b[1;31m---------------------------------------------------------------------------\u001b[0m",
            "\u001b[1;31mFileNotFoundError\u001b[0m                         Traceback (most recent call last)",
            "Cell \u001b[1;32mIn[24], line 11\u001b[0m\n\u001b[0;32m      9\u001b[0m \u001b[38;5;28;01mfrom\u001b[39;00m \u001b[38;5;21;01msklearn\u001b[39;00m\u001b[38;5;21;01m.\u001b[39;00m\u001b[38;5;21;01mmodel_selection\u001b[39;00m \u001b[38;5;28;01mimport\u001b[39;00m train_test_split\n\u001b[0;32m     10\u001b[0m \u001b[38;5;28;01mfrom\u001b[39;00m \u001b[38;5;21;01msklearn\u001b[39;00m\u001b[38;5;21;01m.\u001b[39;00m\u001b[38;5;21;01mlinear_model\u001b[39;00m \u001b[38;5;28;01mimport\u001b[39;00m LogisticRegression\n\u001b[1;32m---> 11\u001b[0m noshow_appointments \u001b[38;5;241m=\u001b[39m \u001b[43mpd\u001b[49m\u001b[38;5;241;43m.\u001b[39;49m\u001b[43mread_csv\u001b[49m\u001b[43m(\u001b[49m\u001b[38;5;124;43m\"\u001b[39;49m\u001b[38;5;124;43mKaggleV2-May-2016.csv\u001b[39;49m\u001b[38;5;124;43m\"\u001b[39;49m\u001b[43m)\u001b[49m\n\u001b[0;32m     12\u001b[0m \u001b[38;5;66;03m# (noshow_appointments.head())\u001b[39;00m\n",
            "File \u001b[1;32mc:\\Users\\manit\\anaconda3\\envs\\ml\\Lib\\site-packages\\pandas\\io\\parsers\\readers.py:1026\u001b[0m, in \u001b[0;36mread_csv\u001b[1;34m(filepath_or_buffer, sep, delimiter, header, names, index_col, usecols, dtype, engine, converters, true_values, false_values, skipinitialspace, skiprows, skipfooter, nrows, na_values, keep_default_na, na_filter, verbose, skip_blank_lines, parse_dates, infer_datetime_format, keep_date_col, date_parser, date_format, dayfirst, cache_dates, iterator, chunksize, compression, thousands, decimal, lineterminator, quotechar, quoting, doublequote, escapechar, comment, encoding, encoding_errors, dialect, on_bad_lines, delim_whitespace, low_memory, memory_map, float_precision, storage_options, dtype_backend)\u001b[0m\n\u001b[0;32m   1013\u001b[0m kwds_defaults \u001b[38;5;241m=\u001b[39m _refine_defaults_read(\n\u001b[0;32m   1014\u001b[0m     dialect,\n\u001b[0;32m   1015\u001b[0m     delimiter,\n\u001b[1;32m   (...)\u001b[0m\n\u001b[0;32m   1022\u001b[0m     dtype_backend\u001b[38;5;241m=\u001b[39mdtype_backend,\n\u001b[0;32m   1023\u001b[0m )\n\u001b[0;32m   1024\u001b[0m kwds\u001b[38;5;241m.\u001b[39mupdate(kwds_defaults)\n\u001b[1;32m-> 1026\u001b[0m \u001b[38;5;28;01mreturn\u001b[39;00m \u001b[43m_read\u001b[49m\u001b[43m(\u001b[49m\u001b[43mfilepath_or_buffer\u001b[49m\u001b[43m,\u001b[49m\u001b[43m \u001b[49m\u001b[43mkwds\u001b[49m\u001b[43m)\u001b[49m\n",
            "File \u001b[1;32mc:\\Users\\manit\\anaconda3\\envs\\ml\\Lib\\site-packages\\pandas\\io\\parsers\\readers.py:620\u001b[0m, in \u001b[0;36m_read\u001b[1;34m(filepath_or_buffer, kwds)\u001b[0m\n\u001b[0;32m    617\u001b[0m _validate_names(kwds\u001b[38;5;241m.\u001b[39mget(\u001b[38;5;124m\"\u001b[39m\u001b[38;5;124mnames\u001b[39m\u001b[38;5;124m\"\u001b[39m, \u001b[38;5;28;01mNone\u001b[39;00m))\n\u001b[0;32m    619\u001b[0m \u001b[38;5;66;03m# Create the parser.\u001b[39;00m\n\u001b[1;32m--> 620\u001b[0m parser \u001b[38;5;241m=\u001b[39m \u001b[43mTextFileReader\u001b[49m\u001b[43m(\u001b[49m\u001b[43mfilepath_or_buffer\u001b[49m\u001b[43m,\u001b[49m\u001b[43m \u001b[49m\u001b[38;5;241;43m*\u001b[39;49m\u001b[38;5;241;43m*\u001b[39;49m\u001b[43mkwds\u001b[49m\u001b[43m)\u001b[49m\n\u001b[0;32m    622\u001b[0m \u001b[38;5;28;01mif\u001b[39;00m chunksize \u001b[38;5;129;01mor\u001b[39;00m iterator:\n\u001b[0;32m    623\u001b[0m     \u001b[38;5;28;01mreturn\u001b[39;00m parser\n",
            "File \u001b[1;32mc:\\Users\\manit\\anaconda3\\envs\\ml\\Lib\\site-packages\\pandas\\io\\parsers\\readers.py:1620\u001b[0m, in \u001b[0;36mTextFileReader.__init__\u001b[1;34m(self, f, engine, **kwds)\u001b[0m\n\u001b[0;32m   1617\u001b[0m     \u001b[38;5;28mself\u001b[39m\u001b[38;5;241m.\u001b[39moptions[\u001b[38;5;124m\"\u001b[39m\u001b[38;5;124mhas_index_names\u001b[39m\u001b[38;5;124m\"\u001b[39m] \u001b[38;5;241m=\u001b[39m kwds[\u001b[38;5;124m\"\u001b[39m\u001b[38;5;124mhas_index_names\u001b[39m\u001b[38;5;124m\"\u001b[39m]\n\u001b[0;32m   1619\u001b[0m \u001b[38;5;28mself\u001b[39m\u001b[38;5;241m.\u001b[39mhandles: IOHandles \u001b[38;5;241m|\u001b[39m \u001b[38;5;28;01mNone\u001b[39;00m \u001b[38;5;241m=\u001b[39m \u001b[38;5;28;01mNone\u001b[39;00m\n\u001b[1;32m-> 1620\u001b[0m \u001b[38;5;28mself\u001b[39m\u001b[38;5;241m.\u001b[39m_engine \u001b[38;5;241m=\u001b[39m \u001b[38;5;28;43mself\u001b[39;49m\u001b[38;5;241;43m.\u001b[39;49m\u001b[43m_make_engine\u001b[49m\u001b[43m(\u001b[49m\u001b[43mf\u001b[49m\u001b[43m,\u001b[49m\u001b[43m \u001b[49m\u001b[38;5;28;43mself\u001b[39;49m\u001b[38;5;241;43m.\u001b[39;49m\u001b[43mengine\u001b[49m\u001b[43m)\u001b[49m\n",
            "File \u001b[1;32mc:\\Users\\manit\\anaconda3\\envs\\ml\\Lib\\site-packages\\pandas\\io\\parsers\\readers.py:1880\u001b[0m, in \u001b[0;36mTextFileReader._make_engine\u001b[1;34m(self, f, engine)\u001b[0m\n\u001b[0;32m   1878\u001b[0m     \u001b[38;5;28;01mif\u001b[39;00m \u001b[38;5;124m\"\u001b[39m\u001b[38;5;124mb\u001b[39m\u001b[38;5;124m\"\u001b[39m \u001b[38;5;129;01mnot\u001b[39;00m \u001b[38;5;129;01min\u001b[39;00m mode:\n\u001b[0;32m   1879\u001b[0m         mode \u001b[38;5;241m+\u001b[39m\u001b[38;5;241m=\u001b[39m \u001b[38;5;124m\"\u001b[39m\u001b[38;5;124mb\u001b[39m\u001b[38;5;124m\"\u001b[39m\n\u001b[1;32m-> 1880\u001b[0m \u001b[38;5;28mself\u001b[39m\u001b[38;5;241m.\u001b[39mhandles \u001b[38;5;241m=\u001b[39m \u001b[43mget_handle\u001b[49m\u001b[43m(\u001b[49m\n\u001b[0;32m   1881\u001b[0m \u001b[43m    \u001b[49m\u001b[43mf\u001b[49m\u001b[43m,\u001b[49m\n\u001b[0;32m   1882\u001b[0m \u001b[43m    \u001b[49m\u001b[43mmode\u001b[49m\u001b[43m,\u001b[49m\n\u001b[0;32m   1883\u001b[0m \u001b[43m    \u001b[49m\u001b[43mencoding\u001b[49m\u001b[38;5;241;43m=\u001b[39;49m\u001b[38;5;28;43mself\u001b[39;49m\u001b[38;5;241;43m.\u001b[39;49m\u001b[43moptions\u001b[49m\u001b[38;5;241;43m.\u001b[39;49m\u001b[43mget\u001b[49m\u001b[43m(\u001b[49m\u001b[38;5;124;43m\"\u001b[39;49m\u001b[38;5;124;43mencoding\u001b[39;49m\u001b[38;5;124;43m\"\u001b[39;49m\u001b[43m,\u001b[49m\u001b[43m \u001b[49m\u001b[38;5;28;43;01mNone\u001b[39;49;00m\u001b[43m)\u001b[49m\u001b[43m,\u001b[49m\n\u001b[0;32m   1884\u001b[0m \u001b[43m    \u001b[49m\u001b[43mcompression\u001b[49m\u001b[38;5;241;43m=\u001b[39;49m\u001b[38;5;28;43mself\u001b[39;49m\u001b[38;5;241;43m.\u001b[39;49m\u001b[43moptions\u001b[49m\u001b[38;5;241;43m.\u001b[39;49m\u001b[43mget\u001b[49m\u001b[43m(\u001b[49m\u001b[38;5;124;43m\"\u001b[39;49m\u001b[38;5;124;43mcompression\u001b[39;49m\u001b[38;5;124;43m\"\u001b[39;49m\u001b[43m,\u001b[49m\u001b[43m \u001b[49m\u001b[38;5;28;43;01mNone\u001b[39;49;00m\u001b[43m)\u001b[49m\u001b[43m,\u001b[49m\n\u001b[0;32m   1885\u001b[0m \u001b[43m    \u001b[49m\u001b[43mmemory_map\u001b[49m\u001b[38;5;241;43m=\u001b[39;49m\u001b[38;5;28;43mself\u001b[39;49m\u001b[38;5;241;43m.\u001b[39;49m\u001b[43moptions\u001b[49m\u001b[38;5;241;43m.\u001b[39;49m\u001b[43mget\u001b[49m\u001b[43m(\u001b[49m\u001b[38;5;124;43m\"\u001b[39;49m\u001b[38;5;124;43mmemory_map\u001b[39;49m\u001b[38;5;124;43m\"\u001b[39;49m\u001b[43m,\u001b[49m\u001b[43m \u001b[49m\u001b[38;5;28;43;01mFalse\u001b[39;49;00m\u001b[43m)\u001b[49m\u001b[43m,\u001b[49m\n\u001b[0;32m   1886\u001b[0m \u001b[43m    \u001b[49m\u001b[43mis_text\u001b[49m\u001b[38;5;241;43m=\u001b[39;49m\u001b[43mis_text\u001b[49m\u001b[43m,\u001b[49m\n\u001b[0;32m   1887\u001b[0m \u001b[43m    \u001b[49m\u001b[43merrors\u001b[49m\u001b[38;5;241;43m=\u001b[39;49m\u001b[38;5;28;43mself\u001b[39;49m\u001b[38;5;241;43m.\u001b[39;49m\u001b[43moptions\u001b[49m\u001b[38;5;241;43m.\u001b[39;49m\u001b[43mget\u001b[49m\u001b[43m(\u001b[49m\u001b[38;5;124;43m\"\u001b[39;49m\u001b[38;5;124;43mencoding_errors\u001b[39;49m\u001b[38;5;124;43m\"\u001b[39;49m\u001b[43m,\u001b[49m\u001b[43m \u001b[49m\u001b[38;5;124;43m\"\u001b[39;49m\u001b[38;5;124;43mstrict\u001b[39;49m\u001b[38;5;124;43m\"\u001b[39;49m\u001b[43m)\u001b[49m\u001b[43m,\u001b[49m\n\u001b[0;32m   1888\u001b[0m \u001b[43m    \u001b[49m\u001b[43mstorage_options\u001b[49m\u001b[38;5;241;43m=\u001b[39;49m\u001b[38;5;28;43mself\u001b[39;49m\u001b[38;5;241;43m.\u001b[39;49m\u001b[43moptions\u001b[49m\u001b[38;5;241;43m.\u001b[39;49m\u001b[43mget\u001b[49m\u001b[43m(\u001b[49m\u001b[38;5;124;43m\"\u001b[39;49m\u001b[38;5;124;43mstorage_options\u001b[39;49m\u001b[38;5;124;43m\"\u001b[39;49m\u001b[43m,\u001b[49m\u001b[43m \u001b[49m\u001b[38;5;28;43;01mNone\u001b[39;49;00m\u001b[43m)\u001b[49m\u001b[43m,\u001b[49m\n\u001b[0;32m   1889\u001b[0m \u001b[43m\u001b[49m\u001b[43m)\u001b[49m\n\u001b[0;32m   1890\u001b[0m \u001b[38;5;28;01massert\u001b[39;00m \u001b[38;5;28mself\u001b[39m\u001b[38;5;241m.\u001b[39mhandles \u001b[38;5;129;01mis\u001b[39;00m \u001b[38;5;129;01mnot\u001b[39;00m \u001b[38;5;28;01mNone\u001b[39;00m\n\u001b[0;32m   1891\u001b[0m f \u001b[38;5;241m=\u001b[39m \u001b[38;5;28mself\u001b[39m\u001b[38;5;241m.\u001b[39mhandles\u001b[38;5;241m.\u001b[39mhandle\n",
            "File \u001b[1;32mc:\\Users\\manit\\anaconda3\\envs\\ml\\Lib\\site-packages\\pandas\\io\\common.py:873\u001b[0m, in \u001b[0;36mget_handle\u001b[1;34m(path_or_buf, mode, encoding, compression, memory_map, is_text, errors, storage_options)\u001b[0m\n\u001b[0;32m    868\u001b[0m \u001b[38;5;28;01melif\u001b[39;00m \u001b[38;5;28misinstance\u001b[39m(handle, \u001b[38;5;28mstr\u001b[39m):\n\u001b[0;32m    869\u001b[0m     \u001b[38;5;66;03m# Check whether the filename is to be opened in binary mode.\u001b[39;00m\n\u001b[0;32m    870\u001b[0m     \u001b[38;5;66;03m# Binary mode does not support 'encoding' and 'newline'.\u001b[39;00m\n\u001b[0;32m    871\u001b[0m     \u001b[38;5;28;01mif\u001b[39;00m ioargs\u001b[38;5;241m.\u001b[39mencoding \u001b[38;5;129;01mand\u001b[39;00m \u001b[38;5;124m\"\u001b[39m\u001b[38;5;124mb\u001b[39m\u001b[38;5;124m\"\u001b[39m \u001b[38;5;129;01mnot\u001b[39;00m \u001b[38;5;129;01min\u001b[39;00m ioargs\u001b[38;5;241m.\u001b[39mmode:\n\u001b[0;32m    872\u001b[0m         \u001b[38;5;66;03m# Encoding\u001b[39;00m\n\u001b[1;32m--> 873\u001b[0m         handle \u001b[38;5;241m=\u001b[39m \u001b[38;5;28;43mopen\u001b[39;49m\u001b[43m(\u001b[49m\n\u001b[0;32m    874\u001b[0m \u001b[43m            \u001b[49m\u001b[43mhandle\u001b[49m\u001b[43m,\u001b[49m\n\u001b[0;32m    875\u001b[0m \u001b[43m            \u001b[49m\u001b[43mioargs\u001b[49m\u001b[38;5;241;43m.\u001b[39;49m\u001b[43mmode\u001b[49m\u001b[43m,\u001b[49m\n\u001b[0;32m    876\u001b[0m \u001b[43m            \u001b[49m\u001b[43mencoding\u001b[49m\u001b[38;5;241;43m=\u001b[39;49m\u001b[43mioargs\u001b[49m\u001b[38;5;241;43m.\u001b[39;49m\u001b[43mencoding\u001b[49m\u001b[43m,\u001b[49m\n\u001b[0;32m    877\u001b[0m \u001b[43m            \u001b[49m\u001b[43merrors\u001b[49m\u001b[38;5;241;43m=\u001b[39;49m\u001b[43merrors\u001b[49m\u001b[43m,\u001b[49m\n\u001b[0;32m    878\u001b[0m \u001b[43m            \u001b[49m\u001b[43mnewline\u001b[49m\u001b[38;5;241;43m=\u001b[39;49m\u001b[38;5;124;43m\"\u001b[39;49m\u001b[38;5;124;43m\"\u001b[39;49m\u001b[43m,\u001b[49m\n\u001b[0;32m    879\u001b[0m \u001b[43m        \u001b[49m\u001b[43m)\u001b[49m\n\u001b[0;32m    880\u001b[0m     \u001b[38;5;28;01melse\u001b[39;00m:\n\u001b[0;32m    881\u001b[0m         \u001b[38;5;66;03m# Binary mode\u001b[39;00m\n\u001b[0;32m    882\u001b[0m         handle \u001b[38;5;241m=\u001b[39m \u001b[38;5;28mopen\u001b[39m(handle, ioargs\u001b[38;5;241m.\u001b[39mmode)\n",
            "\u001b[1;31mFileNotFoundError\u001b[0m: [Errno 2] No such file or directory: 'KaggleV2-May-2016.csv'"
          ]
        }
      ],
      "source": [
        "\n",
        "import numpy as np\n",
        "import pandas as pd\n",
        "import matplotlib.pyplot as plt\n",
        "# %matplotlib inline\n",
        "# import matplotlib.pyplot as plt\n",
        "import seaborn as sns\n",
        "from datetime import datetime\n",
        "import sklearn\n",
        "from sklearn.model_selection import train_test_split\n",
        "from sklearn.linear_model import LogisticRegression\n",
        "noshow_appointments = pd.read_csv(\"KaggleV2-May-2016.csv\")\n",
        "# (noshow_appointments.head())"
      ]
    },
    {
      "cell_type": "code",
      "execution_count": null,
      "id": "525c8a3f-a6cb-47b2-9f6c-02050d06882c",
      "metadata": {
        "colab": {
          "base_uri": "https://localhost:8080/",
          "height": 574
        },
        "id": "525c8a3f-a6cb-47b2-9f6c-02050d06882c",
        "outputId": "adcfe7f7-d79e-4c9f-d968-67cd0fa13bff"
      },
      "outputs": [
        {
          "data": {
            "text/html": [
              "<div>\n",
              "<style scoped>\n",
              "    .dataframe tbody tr th:only-of-type {\n",
              "        vertical-align: middle;\n",
              "    }\n",
              "\n",
              "    .dataframe tbody tr th {\n",
              "        vertical-align: top;\n",
              "    }\n",
              "\n",
              "    .dataframe thead th {\n",
              "        text-align: right;\n",
              "    }\n",
              "</style>\n",
              "<table border=\"1\" class=\"dataframe\">\n",
              "  <thead>\n",
              "    <tr style=\"text-align: right;\">\n",
              "      <th></th>\n",
              "      <th>PatientId</th>\n",
              "      <th>AppointmentID</th>\n",
              "      <th>Gender</th>\n",
              "      <th>ScheduledDay</th>\n",
              "      <th>AppointmentDay</th>\n",
              "      <th>Age</th>\n",
              "      <th>Neighbourhood</th>\n",
              "      <th>Scholarship</th>\n",
              "      <th>Hipertension</th>\n",
              "      <th>Diabetes</th>\n",
              "      <th>Alcoholism</th>\n",
              "      <th>Handcap</th>\n",
              "      <th>SMS_received</th>\n",
              "      <th>No-show</th>\n",
              "    </tr>\n",
              "  </thead>\n",
              "  <tbody>\n",
              "    <tr>\n",
              "      <th>0</th>\n",
              "      <td>2.987250e+13</td>\n",
              "      <td>5642903</td>\n",
              "      <td>F</td>\n",
              "      <td>2016-04-29T18:38:08Z</td>\n",
              "      <td>2016-04-29T00:00:00Z</td>\n",
              "      <td>62</td>\n",
              "      <td>JARDIM DA PENHA</td>\n",
              "      <td>0</td>\n",
              "      <td>1</td>\n",
              "      <td>0</td>\n",
              "      <td>0</td>\n",
              "      <td>0</td>\n",
              "      <td>0</td>\n",
              "      <td>No</td>\n",
              "    </tr>\n",
              "    <tr>\n",
              "      <th>1</th>\n",
              "      <td>5.589978e+14</td>\n",
              "      <td>5642503</td>\n",
              "      <td>M</td>\n",
              "      <td>2016-04-29T16:08:27Z</td>\n",
              "      <td>2016-04-29T00:00:00Z</td>\n",
              "      <td>56</td>\n",
              "      <td>JARDIM DA PENHA</td>\n",
              "      <td>0</td>\n",
              "      <td>0</td>\n",
              "      <td>0</td>\n",
              "      <td>0</td>\n",
              "      <td>0</td>\n",
              "      <td>0</td>\n",
              "      <td>No</td>\n",
              "    </tr>\n",
              "    <tr>\n",
              "      <th>2</th>\n",
              "      <td>4.262962e+12</td>\n",
              "      <td>5642549</td>\n",
              "      <td>F</td>\n",
              "      <td>2016-04-29T16:19:04Z</td>\n",
              "      <td>2016-04-29T00:00:00Z</td>\n",
              "      <td>62</td>\n",
              "      <td>MATA DA PRAIA</td>\n",
              "      <td>0</td>\n",
              "      <td>0</td>\n",
              "      <td>0</td>\n",
              "      <td>0</td>\n",
              "      <td>0</td>\n",
              "      <td>0</td>\n",
              "      <td>No</td>\n",
              "    </tr>\n",
              "    <tr>\n",
              "      <th>3</th>\n",
              "      <td>8.679512e+11</td>\n",
              "      <td>5642828</td>\n",
              "      <td>F</td>\n",
              "      <td>2016-04-29T17:29:31Z</td>\n",
              "      <td>2016-04-29T00:00:00Z</td>\n",
              "      <td>8</td>\n",
              "      <td>PONTAL DE CAMBURI</td>\n",
              "      <td>0</td>\n",
              "      <td>0</td>\n",
              "      <td>0</td>\n",
              "      <td>0</td>\n",
              "      <td>0</td>\n",
              "      <td>0</td>\n",
              "      <td>No</td>\n",
              "    </tr>\n",
              "    <tr>\n",
              "      <th>4</th>\n",
              "      <td>8.841186e+12</td>\n",
              "      <td>5642494</td>\n",
              "      <td>F</td>\n",
              "      <td>2016-04-29T16:07:23Z</td>\n",
              "      <td>2016-04-29T00:00:00Z</td>\n",
              "      <td>56</td>\n",
              "      <td>JARDIM DA PENHA</td>\n",
              "      <td>0</td>\n",
              "      <td>1</td>\n",
              "      <td>1</td>\n",
              "      <td>0</td>\n",
              "      <td>0</td>\n",
              "      <td>0</td>\n",
              "      <td>No</td>\n",
              "    </tr>\n",
              "    <tr>\n",
              "      <th>5</th>\n",
              "      <td>9.598513e+13</td>\n",
              "      <td>5626772</td>\n",
              "      <td>F</td>\n",
              "      <td>2016-04-27T08:36:51Z</td>\n",
              "      <td>2016-04-29T00:00:00Z</td>\n",
              "      <td>76</td>\n",
              "      <td>REPÚBLICA</td>\n",
              "      <td>0</td>\n",
              "      <td>1</td>\n",
              "      <td>0</td>\n",
              "      <td>0</td>\n",
              "      <td>0</td>\n",
              "      <td>0</td>\n",
              "      <td>No</td>\n",
              "    </tr>\n",
              "    <tr>\n",
              "      <th>6</th>\n",
              "      <td>7.336882e+14</td>\n",
              "      <td>5630279</td>\n",
              "      <td>F</td>\n",
              "      <td>2016-04-27T15:05:12Z</td>\n",
              "      <td>2016-04-29T00:00:00Z</td>\n",
              "      <td>23</td>\n",
              "      <td>GOIABEIRAS</td>\n",
              "      <td>0</td>\n",
              "      <td>0</td>\n",
              "      <td>0</td>\n",
              "      <td>0</td>\n",
              "      <td>0</td>\n",
              "      <td>0</td>\n",
              "      <td>Yes</td>\n",
              "    </tr>\n",
              "    <tr>\n",
              "      <th>7</th>\n",
              "      <td>3.449833e+12</td>\n",
              "      <td>5630575</td>\n",
              "      <td>F</td>\n",
              "      <td>2016-04-27T15:39:58Z</td>\n",
              "      <td>2016-04-29T00:00:00Z</td>\n",
              "      <td>39</td>\n",
              "      <td>GOIABEIRAS</td>\n",
              "      <td>0</td>\n",
              "      <td>0</td>\n",
              "      <td>0</td>\n",
              "      <td>0</td>\n",
              "      <td>0</td>\n",
              "      <td>0</td>\n",
              "      <td>Yes</td>\n",
              "    </tr>\n",
              "    <tr>\n",
              "      <th>8</th>\n",
              "      <td>5.639473e+13</td>\n",
              "      <td>5638447</td>\n",
              "      <td>F</td>\n",
              "      <td>2016-04-29T08:02:16Z</td>\n",
              "      <td>2016-04-29T00:00:00Z</td>\n",
              "      <td>21</td>\n",
              "      <td>ANDORINHAS</td>\n",
              "      <td>0</td>\n",
              "      <td>0</td>\n",
              "      <td>0</td>\n",
              "      <td>0</td>\n",
              "      <td>0</td>\n",
              "      <td>0</td>\n",
              "      <td>No</td>\n",
              "    </tr>\n",
              "    <tr>\n",
              "      <th>9</th>\n",
              "      <td>7.812456e+13</td>\n",
              "      <td>5629123</td>\n",
              "      <td>F</td>\n",
              "      <td>2016-04-27T12:48:25Z</td>\n",
              "      <td>2016-04-29T00:00:00Z</td>\n",
              "      <td>19</td>\n",
              "      <td>CONQUISTA</td>\n",
              "      <td>0</td>\n",
              "      <td>0</td>\n",
              "      <td>0</td>\n",
              "      <td>0</td>\n",
              "      <td>0</td>\n",
              "      <td>0</td>\n",
              "      <td>No</td>\n",
              "    </tr>\n",
              "  </tbody>\n",
              "</table>\n",
              "</div>"
            ],
            "text/plain": [
              "      PatientId  AppointmentID Gender          ScheduledDay  \\\n",
              "0  2.987250e+13        5642903      F  2016-04-29T18:38:08Z   \n",
              "1  5.589978e+14        5642503      M  2016-04-29T16:08:27Z   \n",
              "2  4.262962e+12        5642549      F  2016-04-29T16:19:04Z   \n",
              "3  8.679512e+11        5642828      F  2016-04-29T17:29:31Z   \n",
              "4  8.841186e+12        5642494      F  2016-04-29T16:07:23Z   \n",
              "5  9.598513e+13        5626772      F  2016-04-27T08:36:51Z   \n",
              "6  7.336882e+14        5630279      F  2016-04-27T15:05:12Z   \n",
              "7  3.449833e+12        5630575      F  2016-04-27T15:39:58Z   \n",
              "8  5.639473e+13        5638447      F  2016-04-29T08:02:16Z   \n",
              "9  7.812456e+13        5629123      F  2016-04-27T12:48:25Z   \n",
              "\n",
              "         AppointmentDay  Age      Neighbourhood  Scholarship  Hipertension  \\\n",
              "0  2016-04-29T00:00:00Z   62    JARDIM DA PENHA            0             1   \n",
              "1  2016-04-29T00:00:00Z   56    JARDIM DA PENHA            0             0   \n",
              "2  2016-04-29T00:00:00Z   62      MATA DA PRAIA            0             0   \n",
              "3  2016-04-29T00:00:00Z    8  PONTAL DE CAMBURI            0             0   \n",
              "4  2016-04-29T00:00:00Z   56    JARDIM DA PENHA            0             1   \n",
              "5  2016-04-29T00:00:00Z   76          REPÚBLICA            0             1   \n",
              "6  2016-04-29T00:00:00Z   23         GOIABEIRAS            0             0   \n",
              "7  2016-04-29T00:00:00Z   39         GOIABEIRAS            0             0   \n",
              "8  2016-04-29T00:00:00Z   21         ANDORINHAS            0             0   \n",
              "9  2016-04-29T00:00:00Z   19          CONQUISTA            0             0   \n",
              "\n",
              "   Diabetes  Alcoholism  Handcap  SMS_received No-show  \n",
              "0         0           0        0             0      No  \n",
              "1         0           0        0             0      No  \n",
              "2         0           0        0             0      No  \n",
              "3         0           0        0             0      No  \n",
              "4         1           0        0             0      No  \n",
              "5         0           0        0             0      No  \n",
              "6         0           0        0             0     Yes  \n",
              "7         0           0        0             0     Yes  \n",
              "8         0           0        0             0      No  \n",
              "9         0           0        0             0      No  "
            ]
          },
          "execution_count": 3,
          "metadata": {},
          "output_type": "execute_result"
        }
      ],
      "source": [
        "# Assign the dataset to a variable and take a sample of the set.\n",
        "df = pd.DataFrame(noshow_appointments)\n",
        "df.head(10)"
      ]
    },
    {
      "cell_type": "code",
      "execution_count": null,
      "id": "7340e25a-df58-4a94-b742-65082e2b6d2a",
      "metadata": {
        "colab": {
          "base_uri": "https://localhost:8080/",
          "height": 300
        },
        "id": "7340e25a-df58-4a94-b742-65082e2b6d2a",
        "outputId": "dca99332-b04c-4ab4-9edb-a2afbbd08f7e"
      },
      "outputs": [
        {
          "data": {
            "text/html": [
              "<div>\n",
              "<style scoped>\n",
              "    .dataframe tbody tr th:only-of-type {\n",
              "        vertical-align: middle;\n",
              "    }\n",
              "\n",
              "    .dataframe tbody tr th {\n",
              "        vertical-align: top;\n",
              "    }\n",
              "\n",
              "    .dataframe thead th {\n",
              "        text-align: right;\n",
              "    }\n",
              "</style>\n",
              "<table border=\"1\" class=\"dataframe\">\n",
              "  <thead>\n",
              "    <tr style=\"text-align: right;\">\n",
              "      <th></th>\n",
              "      <th>PatientId</th>\n",
              "      <th>AppointmentID</th>\n",
              "      <th>Age</th>\n",
              "      <th>Scholarship</th>\n",
              "      <th>Hipertension</th>\n",
              "      <th>Diabetes</th>\n",
              "      <th>Alcoholism</th>\n",
              "      <th>Handcap</th>\n",
              "      <th>SMS_received</th>\n",
              "    </tr>\n",
              "  </thead>\n",
              "  <tbody>\n",
              "    <tr>\n",
              "      <th>count</th>\n",
              "      <td>1.105270e+05</td>\n",
              "      <td>1.105270e+05</td>\n",
              "      <td>110527.000000</td>\n",
              "      <td>110527.000000</td>\n",
              "      <td>110527.000000</td>\n",
              "      <td>110527.000000</td>\n",
              "      <td>110527.000000</td>\n",
              "      <td>110527.000000</td>\n",
              "      <td>110527.000000</td>\n",
              "    </tr>\n",
              "    <tr>\n",
              "      <th>mean</th>\n",
              "      <td>1.474963e+14</td>\n",
              "      <td>5.675305e+06</td>\n",
              "      <td>37.088874</td>\n",
              "      <td>0.098266</td>\n",
              "      <td>0.197246</td>\n",
              "      <td>0.071865</td>\n",
              "      <td>0.030400</td>\n",
              "      <td>0.022248</td>\n",
              "      <td>0.321026</td>\n",
              "    </tr>\n",
              "    <tr>\n",
              "      <th>std</th>\n",
              "      <td>2.560949e+14</td>\n",
              "      <td>7.129575e+04</td>\n",
              "      <td>23.110205</td>\n",
              "      <td>0.297675</td>\n",
              "      <td>0.397921</td>\n",
              "      <td>0.258265</td>\n",
              "      <td>0.171686</td>\n",
              "      <td>0.161543</td>\n",
              "      <td>0.466873</td>\n",
              "    </tr>\n",
              "    <tr>\n",
              "      <th>min</th>\n",
              "      <td>3.921784e+04</td>\n",
              "      <td>5.030230e+06</td>\n",
              "      <td>-1.000000</td>\n",
              "      <td>0.000000</td>\n",
              "      <td>0.000000</td>\n",
              "      <td>0.000000</td>\n",
              "      <td>0.000000</td>\n",
              "      <td>0.000000</td>\n",
              "      <td>0.000000</td>\n",
              "    </tr>\n",
              "    <tr>\n",
              "      <th>25%</th>\n",
              "      <td>4.172614e+12</td>\n",
              "      <td>5.640286e+06</td>\n",
              "      <td>18.000000</td>\n",
              "      <td>0.000000</td>\n",
              "      <td>0.000000</td>\n",
              "      <td>0.000000</td>\n",
              "      <td>0.000000</td>\n",
              "      <td>0.000000</td>\n",
              "      <td>0.000000</td>\n",
              "    </tr>\n",
              "    <tr>\n",
              "      <th>50%</th>\n",
              "      <td>3.173184e+13</td>\n",
              "      <td>5.680573e+06</td>\n",
              "      <td>37.000000</td>\n",
              "      <td>0.000000</td>\n",
              "      <td>0.000000</td>\n",
              "      <td>0.000000</td>\n",
              "      <td>0.000000</td>\n",
              "      <td>0.000000</td>\n",
              "      <td>0.000000</td>\n",
              "    </tr>\n",
              "    <tr>\n",
              "      <th>75%</th>\n",
              "      <td>9.439172e+13</td>\n",
              "      <td>5.725524e+06</td>\n",
              "      <td>55.000000</td>\n",
              "      <td>0.000000</td>\n",
              "      <td>0.000000</td>\n",
              "      <td>0.000000</td>\n",
              "      <td>0.000000</td>\n",
              "      <td>0.000000</td>\n",
              "      <td>1.000000</td>\n",
              "    </tr>\n",
              "    <tr>\n",
              "      <th>max</th>\n",
              "      <td>9.999816e+14</td>\n",
              "      <td>5.790484e+06</td>\n",
              "      <td>115.000000</td>\n",
              "      <td>1.000000</td>\n",
              "      <td>1.000000</td>\n",
              "      <td>1.000000</td>\n",
              "      <td>1.000000</td>\n",
              "      <td>4.000000</td>\n",
              "      <td>1.000000</td>\n",
              "    </tr>\n",
              "  </tbody>\n",
              "</table>\n",
              "</div>"
            ],
            "text/plain": [
              "          PatientId  AppointmentID            Age    Scholarship  \\\n",
              "count  1.105270e+05   1.105270e+05  110527.000000  110527.000000   \n",
              "mean   1.474963e+14   5.675305e+06      37.088874       0.098266   \n",
              "std    2.560949e+14   7.129575e+04      23.110205       0.297675   \n",
              "min    3.921784e+04   5.030230e+06      -1.000000       0.000000   \n",
              "25%    4.172614e+12   5.640286e+06      18.000000       0.000000   \n",
              "50%    3.173184e+13   5.680573e+06      37.000000       0.000000   \n",
              "75%    9.439172e+13   5.725524e+06      55.000000       0.000000   \n",
              "max    9.999816e+14   5.790484e+06     115.000000       1.000000   \n",
              "\n",
              "        Hipertension       Diabetes     Alcoholism        Handcap  \\\n",
              "count  110527.000000  110527.000000  110527.000000  110527.000000   \n",
              "mean        0.197246       0.071865       0.030400       0.022248   \n",
              "std         0.397921       0.258265       0.171686       0.161543   \n",
              "min         0.000000       0.000000       0.000000       0.000000   \n",
              "25%         0.000000       0.000000       0.000000       0.000000   \n",
              "50%         0.000000       0.000000       0.000000       0.000000   \n",
              "75%         0.000000       0.000000       0.000000       0.000000   \n",
              "max         1.000000       1.000000       1.000000       4.000000   \n",
              "\n",
              "        SMS_received  \n",
              "count  110527.000000  \n",
              "mean        0.321026  \n",
              "std         0.466873  \n",
              "min         0.000000  \n",
              "25%         0.000000  \n",
              "50%         0.000000  \n",
              "75%         1.000000  \n",
              "max         1.000000  "
            ]
          },
          "execution_count": 4,
          "metadata": {},
          "output_type": "execute_result"
        }
      ],
      "source": [
        "# Displays some necessary features.\n",
        "df.describe()"
      ]
    },
    {
      "cell_type": "markdown",
      "id": "b1394ce8-c537-4d8b-9e67-cb6fe5664062",
      "metadata": {
        "id": "b1394ce8-c537-4d8b-9e67-cb6fe5664062"
      },
      "source": [
        "# Data Cleaning"
      ]
    },
    {
      "cell_type": "markdown",
      "id": "a3e89e9e-0e7a-4f7a-8b98-c1d2a216b7b0",
      "metadata": {
        "id": "a3e89e9e-0e7a-4f7a-8b98-c1d2a216b7b0"
      },
      "source": [
        "There are columns which have typos.So,we have to first clear them,so that their is no confusion later on."
      ]
    },
    {
      "cell_type": "code",
      "execution_count": 25,
      "id": "6fa1cb35",
      "metadata": {},
      "outputs": [
        {
          "name": "stdout",
          "output_type": "stream",
          "text": [
            "<class 'pandas.core.frame.DataFrame'>\n",
            "RangeIndex: 110527 entries, 0 to 110526\n",
            "Data columns (total 14 columns):\n",
            " #   Column          Non-Null Count   Dtype         \n",
            "---  ------          --------------   -----         \n",
            " 0   Gender          110527 non-null  int64         \n",
            " 1   ScheduledDay    110527 non-null  datetime64[ns]\n",
            " 2   AppointmentDay  110527 non-null  datetime64[ns]\n",
            " 3   Age             110527 non-null  int64         \n",
            " 4   Neighbourhood   110527 non-null  object        \n",
            " 5   Scholarship     110527 non-null  int64         \n",
            " 6   Hypertension    110527 non-null  int64         \n",
            " 7   Diabetes        110527 non-null  int64         \n",
            " 8   Alcoholism      110527 non-null  int64         \n",
            " 9   Handicap        110527 non-null  int64         \n",
            " 10  SMS_received    110527 non-null  int64         \n",
            " 11  Noshow          110527 non-null  int64         \n",
            " 12  WeekDay         110527 non-null  int32         \n",
            " 13  DayScheduled    110527 non-null  int32         \n",
            "dtypes: datetime64[ns](2), int32(2), int64(9), object(1)\n",
            "memory usage: 11.0+ MB\n"
          ]
        }
      ],
      "source": [
        "df.info()"
      ]
    },
    {
      "cell_type": "code",
      "execution_count": 26,
      "id": "9ce4a31b-b715-4a62-ae89-6e5985609fda",
      "metadata": {
        "colab": {
          "base_uri": "https://localhost:8080/",
          "height": 256
        },
        "id": "9ce4a31b-b715-4a62-ae89-6e5985609fda",
        "outputId": "726bc271-4734-4cc3-eb67-42b3a3be8b3a"
      },
      "outputs": [
        {
          "name": "stdout",
          "output_type": "stream",
          "text": [
            "Index(['PatientId', 'AppointmentID', 'Gender', 'ScheduledDay',\n",
            "       'AppointmentDay', 'Age', 'Neighbourhood', 'Scholarship', 'Hypertension',\n",
            "       'Diabetes', 'Alcoholism', 'Handicap', 'SMS_received', 'Noshow'],\n",
            "      dtype='object')\n"
          ]
        },
        {
          "data": {
            "text/plain": [
              "<bound method NDFrame.head of            PatientId  AppointmentID Gender          ScheduledDay  \\\n",
              "0       2.987250e+13        5642903      F  2016-04-29T18:38:08Z   \n",
              "1       5.589978e+14        5642503      M  2016-04-29T16:08:27Z   \n",
              "2       4.262962e+12        5642549      F  2016-04-29T16:19:04Z   \n",
              "3       8.679512e+11        5642828      F  2016-04-29T17:29:31Z   \n",
              "4       8.841186e+12        5642494      F  2016-04-29T16:07:23Z   \n",
              "...              ...            ...    ...                   ...   \n",
              "110522  2.572134e+12        5651768      F  2016-05-03T09:15:35Z   \n",
              "110523  3.596266e+12        5650093      F  2016-05-03T07:27:33Z   \n",
              "110524  1.557663e+13        5630692      F  2016-04-27T16:03:52Z   \n",
              "110525  9.213493e+13        5630323      F  2016-04-27T15:09:23Z   \n",
              "110526  3.775115e+14        5629448      F  2016-04-27T13:30:56Z   \n",
              "\n",
              "              AppointmentDay  Age      Neighbourhood  Scholarship  \\\n",
              "0       2016-04-29T00:00:00Z   62    JARDIM DA PENHA            0   \n",
              "1       2016-04-29T00:00:00Z   56    JARDIM DA PENHA            0   \n",
              "2       2016-04-29T00:00:00Z   62      MATA DA PRAIA            0   \n",
              "3       2016-04-29T00:00:00Z    8  PONTAL DE CAMBURI            0   \n",
              "4       2016-04-29T00:00:00Z   56    JARDIM DA PENHA            0   \n",
              "...                      ...  ...                ...          ...   \n",
              "110522  2016-06-07T00:00:00Z   56        MARIA ORTIZ            0   \n",
              "110523  2016-06-07T00:00:00Z   51        MARIA ORTIZ            0   \n",
              "110524  2016-06-07T00:00:00Z   21        MARIA ORTIZ            0   \n",
              "110525  2016-06-07T00:00:00Z   38        MARIA ORTIZ            0   \n",
              "110526  2016-06-07T00:00:00Z   54        MARIA ORTIZ            0   \n",
              "\n",
              "        Hypertension  Diabetes  Alcoholism  Handicap  SMS_received Noshow  \n",
              "0                  1         0           0         0             0     No  \n",
              "1                  0         0           0         0             0     No  \n",
              "2                  0         0           0         0             0     No  \n",
              "3                  0         0           0         0             0     No  \n",
              "4                  1         1           0         0             0     No  \n",
              "...              ...       ...         ...       ...           ...    ...  \n",
              "110522             0         0           0         0             1     No  \n",
              "110523             0         0           0         0             1     No  \n",
              "110524             0         0           0         0             1     No  \n",
              "110525             0         0           0         0             1     No  \n",
              "110526             0         0           0         0             1     No  \n",
              "\n",
              "[110527 rows x 14 columns]>"
            ]
          },
          "execution_count": 26,
          "metadata": {},
          "output_type": "execute_result"
        }
      ],
      "source": [
        "# Rename the columns with typos.\n",
        "noshow_appointments.rename(columns = {'Hipertension':'Hypertension',\n",
        "                                      'Handcap':'Handicap','No-show':'Noshow'},inplace=True)\n",
        "print (noshow_appointments.columns)\n",
        "noshow_appointments.head"
      ]
    },
    {
      "cell_type": "code",
      "execution_count": 27,
      "id": "825e4ce1-1f7c-40f2-8d66-e5c934445414",
      "metadata": {
        "id": "825e4ce1-1f7c-40f2-8d66-e5c934445414"
      },
      "outputs": [],
      "source": [
        "df = pd.DataFrame(noshow_appointments)"
      ]
    },
    {
      "cell_type": "markdown",
      "id": "40722a87-dcf4-4f80-9236-dbc10e65fa2f",
      "metadata": {
        "id": "40722a87-dcf4-4f80-9236-dbc10e65fa2f"
      },
      "source": [
        "We have to check for any error values and NaNs in data before prediction.For that,"
      ]
    },
    {
      "cell_type": "code",
      "execution_count": 28,
      "id": "24235afa-b1f0-4a04-9ed0-2d48776de61b",
      "metadata": {
        "colab": {
          "base_uri": "https://localhost:8080/"
        },
        "id": "24235afa-b1f0-4a04-9ed0-2d48776de61b",
        "outputId": "eb857dba-57e1-4b95-e9a8-add4ead90f27"
      },
      "outputs": [
        {
          "name": "stdout",
          "output_type": "stream",
          "text": [
            "<class 'pandas.core.frame.DataFrame'>\n",
            "RangeIndex: 110527 entries, 0 to 110526\n",
            "Data columns (total 14 columns):\n",
            " #   Column          Non-Null Count   Dtype  \n",
            "---  ------          --------------   -----  \n",
            " 0   PatientId       110527 non-null  float64\n",
            " 1   AppointmentID   110527 non-null  int64  \n",
            " 2   Gender          110527 non-null  object \n",
            " 3   ScheduledDay    110527 non-null  object \n",
            " 4   AppointmentDay  110527 non-null  object \n",
            " 5   Age             110527 non-null  int64  \n",
            " 6   Neighbourhood   110527 non-null  object \n",
            " 7   Scholarship     110527 non-null  int64  \n",
            " 8   Hypertension    110527 non-null  int64  \n",
            " 9   Diabetes        110527 non-null  int64  \n",
            " 10  Alcoholism      110527 non-null  int64  \n",
            " 11  Handicap        110527 non-null  int64  \n",
            " 12  SMS_received    110527 non-null  int64  \n",
            " 13  Noshow          110527 non-null  object \n",
            "dtypes: float64(1), int64(8), object(5)\n",
            "memory usage: 11.8+ MB\n"
          ]
        }
      ],
      "source": [
        "df.info()"
      ]
    },
    {
      "cell_type": "markdown",
      "id": "5301a6cc-f5cd-4ba1-a208-662af8c32f44",
      "metadata": {
        "id": "5301a6cc-f5cd-4ba1-a208-662af8c32f44"
      },
      "source": [
        "From the above info,it is clear that we have no NANs and missing values.\n",
        "\n",
        "First, we are going to convert the data type of AppointmentDay and ScheduledDay to DateTime format"
      ]
    },
    {
      "cell_type": "code",
      "execution_count": 29,
      "id": "e543e9ed-66e7-46c4-b459-ad55c38bee53",
      "metadata": {
        "colab": {
          "base_uri": "https://localhost:8080/"
        },
        "id": "e543e9ed-66e7-46c4-b459-ad55c38bee53",
        "outputId": "4875923f-d6a7-4c5c-a88c-26a11ecb0326"
      },
      "outputs": [],
      "source": [
        "# Converting AppointmentDay and ScheduledDay from object type to datetime64[ns].\n",
        "df.AppointmentDay = df.AppointmentDay.apply(np.datetime64)\n",
        "df['WeekDay'] = df['AppointmentDay'].dt.day\n",
        "df.ScheduledDay = df.ScheduledDay.apply(np.datetime64)\n",
        "df['DayScheduled'] = df['ScheduledDay'].dt.day"
      ]
    },
    {
      "cell_type": "markdown",
      "id": "c826a5ae-5214-4750-a566-17c0cbb2e286",
      "metadata": {
        "id": "c826a5ae-5214-4750-a566-17c0cbb2e286"
      },
      "source": [
        "Next, we are going to drop PatientId and AppointmentID as they are of no use for the prediction and also the object type columns Noshow and Gender are changing into integers"
      ]
    },
    {
      "cell_type": "code",
      "execution_count": 30,
      "id": "8f759bb6-f538-4876-a1e6-0fe2982d431c",
      "metadata": {
        "colab": {
          "base_uri": "https://localhost:8080/"
        },
        "id": "8f759bb6-f538-4876-a1e6-0fe2982d431c",
        "outputId": "e02e2503-e835-4247-aac3-35af5f6b9cf7"
      },
      "outputs": [
        {
          "name": "stderr",
          "output_type": "stream",
          "text": [
            "C:\\Users\\manit\\AppData\\Local\\Temp\\ipykernel_19792\\2448273585.py:7: FutureWarning: Downcasting behavior in `replace` is deprecated and will be removed in a future version. To retain the old behavior, explicitly call `result.infer_objects(copy=False)`. To opt-in to the future behavior, set `pd.set_option('future.no_silent_downcasting', True)`\n",
            "  df['Noshow'] = df['Noshow'].replace('No',0)\n"
          ]
        }
      ],
      "source": [
        "# Dropping 'PatientId' and 'AppointmentID' as they are just some system generated numbers which are not at all important\n",
        "# in our analysis.\n",
        "df.drop(['PatientId', 'AppointmentID'], axis=1, inplace=True)\n",
        "# Converting 'Gender' and 'Noshow' from object format to integer format.\n",
        "df.Gender = df.Gender.apply(lambda x: 1 if x == 'M' else 0)\n",
        "df['Noshow'] = df['Noshow'].replace('Yes',1)\n",
        "df['Noshow'] = df['Noshow'].replace('No',0)"
      ]
    },
    {
      "cell_type": "code",
      "execution_count": 31,
      "id": "73a753a3-fa52-4e80-91a2-2ef18a443607",
      "metadata": {
        "colab": {
          "base_uri": "https://localhost:8080/",
          "height": 313
        },
        "id": "73a753a3-fa52-4e80-91a2-2ef18a443607",
        "outputId": "3de934ee-f55a-4ac4-dc82-70fb4b3d82f3"
      },
      "outputs": [
        {
          "data": {
            "text/html": [
              "<div>\n",
              "<style scoped>\n",
              "    .dataframe tbody tr th:only-of-type {\n",
              "        vertical-align: middle;\n",
              "    }\n",
              "\n",
              "    .dataframe tbody tr th {\n",
              "        vertical-align: top;\n",
              "    }\n",
              "\n",
              "    .dataframe thead th {\n",
              "        text-align: right;\n",
              "    }\n",
              "</style>\n",
              "<table border=\"1\" class=\"dataframe\">\n",
              "  <thead>\n",
              "    <tr style=\"text-align: right;\">\n",
              "      <th></th>\n",
              "      <th>Gender</th>\n",
              "      <th>ScheduledDay</th>\n",
              "      <th>AppointmentDay</th>\n",
              "      <th>Age</th>\n",
              "      <th>Neighbourhood</th>\n",
              "      <th>Scholarship</th>\n",
              "      <th>Hypertension</th>\n",
              "      <th>Diabetes</th>\n",
              "      <th>Alcoholism</th>\n",
              "      <th>Handicap</th>\n",
              "      <th>SMS_received</th>\n",
              "      <th>Noshow</th>\n",
              "      <th>WeekDay</th>\n",
              "      <th>DayScheduled</th>\n",
              "    </tr>\n",
              "  </thead>\n",
              "  <tbody>\n",
              "    <tr>\n",
              "      <th>0</th>\n",
              "      <td>0</td>\n",
              "      <td>2016-04-29 18:38:08</td>\n",
              "      <td>2016-04-29</td>\n",
              "      <td>62</td>\n",
              "      <td>JARDIM DA PENHA</td>\n",
              "      <td>0</td>\n",
              "      <td>1</td>\n",
              "      <td>0</td>\n",
              "      <td>0</td>\n",
              "      <td>0</td>\n",
              "      <td>0</td>\n",
              "      <td>0</td>\n",
              "      <td>29</td>\n",
              "      <td>29</td>\n",
              "    </tr>\n",
              "    <tr>\n",
              "      <th>1</th>\n",
              "      <td>1</td>\n",
              "      <td>2016-04-29 16:08:27</td>\n",
              "      <td>2016-04-29</td>\n",
              "      <td>56</td>\n",
              "      <td>JARDIM DA PENHA</td>\n",
              "      <td>0</td>\n",
              "      <td>0</td>\n",
              "      <td>0</td>\n",
              "      <td>0</td>\n",
              "      <td>0</td>\n",
              "      <td>0</td>\n",
              "      <td>0</td>\n",
              "      <td>29</td>\n",
              "      <td>29</td>\n",
              "    </tr>\n",
              "    <tr>\n",
              "      <th>2</th>\n",
              "      <td>0</td>\n",
              "      <td>2016-04-29 16:19:04</td>\n",
              "      <td>2016-04-29</td>\n",
              "      <td>62</td>\n",
              "      <td>MATA DA PRAIA</td>\n",
              "      <td>0</td>\n",
              "      <td>0</td>\n",
              "      <td>0</td>\n",
              "      <td>0</td>\n",
              "      <td>0</td>\n",
              "      <td>0</td>\n",
              "      <td>0</td>\n",
              "      <td>29</td>\n",
              "      <td>29</td>\n",
              "    </tr>\n",
              "    <tr>\n",
              "      <th>3</th>\n",
              "      <td>0</td>\n",
              "      <td>2016-04-29 17:29:31</td>\n",
              "      <td>2016-04-29</td>\n",
              "      <td>8</td>\n",
              "      <td>PONTAL DE CAMBURI</td>\n",
              "      <td>0</td>\n",
              "      <td>0</td>\n",
              "      <td>0</td>\n",
              "      <td>0</td>\n",
              "      <td>0</td>\n",
              "      <td>0</td>\n",
              "      <td>0</td>\n",
              "      <td>29</td>\n",
              "      <td>29</td>\n",
              "    </tr>\n",
              "    <tr>\n",
              "      <th>4</th>\n",
              "      <td>0</td>\n",
              "      <td>2016-04-29 16:07:23</td>\n",
              "      <td>2016-04-29</td>\n",
              "      <td>56</td>\n",
              "      <td>JARDIM DA PENHA</td>\n",
              "      <td>0</td>\n",
              "      <td>1</td>\n",
              "      <td>1</td>\n",
              "      <td>0</td>\n",
              "      <td>0</td>\n",
              "      <td>0</td>\n",
              "      <td>0</td>\n",
              "      <td>29</td>\n",
              "      <td>29</td>\n",
              "    </tr>\n",
              "  </tbody>\n",
              "</table>\n",
              "</div>"
            ],
            "text/plain": [
              "   Gender        ScheduledDay AppointmentDay  Age      Neighbourhood  \\\n",
              "0       0 2016-04-29 18:38:08     2016-04-29   62    JARDIM DA PENHA   \n",
              "1       1 2016-04-29 16:08:27     2016-04-29   56    JARDIM DA PENHA   \n",
              "2       0 2016-04-29 16:19:04     2016-04-29   62      MATA DA PRAIA   \n",
              "3       0 2016-04-29 17:29:31     2016-04-29    8  PONTAL DE CAMBURI   \n",
              "4       0 2016-04-29 16:07:23     2016-04-29   56    JARDIM DA PENHA   \n",
              "\n",
              "   Scholarship  Hypertension  Diabetes  Alcoholism  Handicap  SMS_received  \\\n",
              "0            0             1         0           0         0             0   \n",
              "1            0             0         0           0         0             0   \n",
              "2            0             0         0           0         0             0   \n",
              "3            0             0         0           0         0             0   \n",
              "4            0             1         1           0         0             0   \n",
              "\n",
              "   Noshow  WeekDay  DayScheduled  \n",
              "0       0       29            29  \n",
              "1       0       29            29  \n",
              "2       0       29            29  \n",
              "3       0       29            29  \n",
              "4       0       29            29  "
            ]
          },
          "execution_count": 31,
          "metadata": {},
          "output_type": "execute_result"
        }
      ],
      "source": [
        "df.head(5)"
      ]
    },
    {
      "cell_type": "code",
      "execution_count": 32,
      "id": "09461bd9-1417-4e35-9f9b-163baf5a0790",
      "metadata": {
        "colab": {
          "base_uri": "https://localhost:8080/"
        },
        "id": "09461bd9-1417-4e35-9f9b-163baf5a0790",
        "outputId": "800419fb-78c0-46ca-b3fb-03779e4477f8"
      },
      "outputs": [
        {
          "name": "stdout",
          "output_type": "stream",
          "text": [
            "<class 'pandas.core.frame.DataFrame'>\n",
            "RangeIndex: 110527 entries, 0 to 110526\n",
            "Data columns (total 14 columns):\n",
            " #   Column          Non-Null Count   Dtype         \n",
            "---  ------          --------------   -----         \n",
            " 0   Gender          110527 non-null  int64         \n",
            " 1   ScheduledDay    110527 non-null  datetime64[ns]\n",
            " 2   AppointmentDay  110527 non-null  datetime64[ns]\n",
            " 3   Age             110527 non-null  int64         \n",
            " 4   Neighbourhood   110527 non-null  object        \n",
            " 5   Scholarship     110527 non-null  int64         \n",
            " 6   Hypertension    110527 non-null  int64         \n",
            " 7   Diabetes        110527 non-null  int64         \n",
            " 8   Alcoholism      110527 non-null  int64         \n",
            " 9   Handicap        110527 non-null  int64         \n",
            " 10  SMS_received    110527 non-null  int64         \n",
            " 11  Noshow          110527 non-null  int64         \n",
            " 12  WeekDay         110527 non-null  int32         \n",
            " 13  DayScheduled    110527 non-null  int32         \n",
            "dtypes: datetime64[ns](2), int32(2), int64(9), object(1)\n",
            "memory usage: 11.0+ MB\n"
          ]
        }
      ],
      "source": [
        "df.info()"
      ]
    },
    {
      "cell_type": "code",
      "execution_count": 33,
      "id": "2220b4e4-a4bd-4662-baa6-2aaf6947a896",
      "metadata": {
        "colab": {
          "base_uri": "https://localhost:8080/",
          "height": 523
        },
        "id": "2220b4e4-a4bd-4662-baa6-2aaf6947a896",
        "outputId": "10646edc-bae9-4f61-d210-f791170ccbb9"
      },
      "outputs": [
        {
          "data": {
            "text/plain": [
              "Gender            0\n",
              "ScheduledDay      0\n",
              "AppointmentDay    0\n",
              "Age               0\n",
              "Neighbourhood     0\n",
              "Scholarship       0\n",
              "Hypertension      0\n",
              "Diabetes          0\n",
              "Alcoholism        0\n",
              "Handicap          0\n",
              "SMS_received      0\n",
              "Noshow            0\n",
              "WeekDay           0\n",
              "DayScheduled      0\n",
              "dtype: int64"
            ]
          },
          "execution_count": 33,
          "metadata": {},
          "output_type": "execute_result"
        }
      ],
      "source": [
        "df.isnull().sum()"
      ]
    },
    {
      "cell_type": "code",
      "execution_count": 34,
      "id": "b1473c0a-58b7-498e-9008-134c0e870f9b",
      "metadata": {
        "colab": {
          "base_uri": "https://localhost:8080/"
        },
        "id": "b1473c0a-58b7-498e-9008-134c0e870f9b",
        "outputId": "632333a2-fefa-4e81-b912-64667bc11d29"
      },
      "outputs": [
        {
          "name": "stdout",
          "output_type": "stream",
          "text": [
            "Unique Values in 'Gender': [0 1]\n",
            "Unique Values in 'ScheduledDay': <DatetimeArray>\n",
            "['2016-04-29 18:38:08', '2016-04-29 16:08:27', '2016-04-29 16:19:04',\n",
            " '2016-04-29 17:29:31', '2016-04-29 16:07:23', '2016-04-27 08:36:51',\n",
            " '2016-04-27 15:05:12', '2016-04-27 15:39:58', '2016-04-29 08:02:16',\n",
            " '2016-04-27 12:48:25',\n",
            " ...\n",
            " '2016-06-07 07:45:16', '2016-06-07 07:38:34', '2016-04-27 15:15:06',\n",
            " '2016-05-03 07:51:47', '2016-05-03 08:23:40', '2016-05-03 09:15:35',\n",
            " '2016-05-03 07:27:33', '2016-04-27 16:03:52', '2016-04-27 15:09:23',\n",
            " '2016-04-27 13:30:56']\n",
            "Length: 103549, dtype: datetime64[ns]\n",
            "Unique Values in 'AppointmentDay': <DatetimeArray>\n",
            "['2016-04-29 00:00:00', '2016-05-03 00:00:00', '2016-05-10 00:00:00',\n",
            " '2016-05-17 00:00:00', '2016-05-24 00:00:00', '2016-05-31 00:00:00',\n",
            " '2016-05-02 00:00:00', '2016-05-30 00:00:00', '2016-05-16 00:00:00',\n",
            " '2016-05-04 00:00:00', '2016-05-19 00:00:00', '2016-05-12 00:00:00',\n",
            " '2016-05-06 00:00:00', '2016-05-20 00:00:00', '2016-05-05 00:00:00',\n",
            " '2016-05-13 00:00:00', '2016-05-09 00:00:00', '2016-05-25 00:00:00',\n",
            " '2016-05-11 00:00:00', '2016-05-18 00:00:00', '2016-05-14 00:00:00',\n",
            " '2016-06-02 00:00:00', '2016-06-03 00:00:00', '2016-06-06 00:00:00',\n",
            " '2016-06-07 00:00:00', '2016-06-01 00:00:00', '2016-06-08 00:00:00']\n",
            "Length: 27, dtype: datetime64[ns]\n",
            "Unique Values in 'Age': [ 62  56   8  76  23  39  21  19  30  29  22  28  54  15  50  40  46   4\n",
            "  13  65  45  51  32  12  61  38  79  18  63  64  85  59  55  71  49  78\n",
            "  31  58  27   6   2  11   7   0   3   1  69  68  60  67  36  10  35  20\n",
            "  26  34  33  16  42   5  47  17  41  44  37  24  66  77  81  70  53  75\n",
            "  73  52  74  43  89  57  14   9  48  83  72  25  80  87  88  84  82  90\n",
            "  94  86  91  98  92  96  93  95  97 102 115 100  99  -1]\n",
            "Unique Values in 'Neighbourhood': ['JARDIM DA PENHA' 'MATA DA PRAIA' 'PONTAL DE CAMBURI' 'REPÚBLICA'\n",
            " 'GOIABEIRAS' 'ANDORINHAS' 'CONQUISTA' 'NOVA PALESTINA' 'DA PENHA'\n",
            " 'TABUAZEIRO' 'BENTO FERREIRA' 'SÃO PEDRO' 'SANTA MARTHA' 'SÃO CRISTÓVÃO'\n",
            " 'MARUÍPE' 'GRANDE VITÓRIA' 'SÃO BENEDITO' 'ILHA DAS CAIEIRAS'\n",
            " 'SANTO ANDRÉ' 'SOLON BORGES' 'BONFIM' 'JARDIM CAMBURI' 'MARIA ORTIZ'\n",
            " 'JABOUR' 'ANTÔNIO HONÓRIO' 'RESISTÊNCIA' 'ILHA DE SANTA MARIA'\n",
            " 'JUCUTUQUARA' 'MONTE BELO' 'MÁRIO CYPRESTE' 'SANTO ANTÔNIO' 'BELA VISTA'\n",
            " 'PRAIA DO SUÁ' 'SANTA HELENA' 'ITARARÉ' 'INHANGUETÁ' 'UNIVERSITÁRIO'\n",
            " 'SÃO JOSÉ' 'REDENÇÃO' 'SANTA CLARA' 'CENTRO' 'PARQUE MOSCOSO'\n",
            " 'DO MOSCOSO' 'SANTOS DUMONT' 'CARATOÍRA' 'ARIOVALDO FAVALESSA'\n",
            " 'ILHA DO FRADE' 'GURIGICA' 'JOANA D´ARC' 'CONSOLAÇÃO' 'PRAIA DO CANTO'\n",
            " 'BOA VISTA' 'MORADA DE CAMBURI' 'SANTA LUÍZA' 'SANTA LÚCIA'\n",
            " 'BARRO VERMELHO' 'ESTRELINHA' 'FORTE SÃO JOÃO' 'FONTE GRANDE'\n",
            " 'ENSEADA DO SUÁ' 'SANTOS REIS' 'PIEDADE' 'JESUS DE NAZARETH'\n",
            " 'SANTA TEREZA' 'CRUZAMENTO' 'ILHA DO PRÍNCIPE' 'ROMÃO' 'COMDUSA'\n",
            " 'SANTA CECÍLIA' 'VILA RUBIM' 'DE LOURDES' 'DO QUADRO' 'DO CABRAL' 'HORTO'\n",
            " 'SEGURANÇA DO LAR' 'ILHA DO BOI' 'FRADINHOS' 'NAZARETH' 'AEROPORTO'\n",
            " 'ILHAS OCEÂNICAS DE TRINDADE' 'PARQUE INDUSTRIAL']\n",
            "Unique Values in 'Scholarship': [0 1]\n",
            "Unique Values in 'Hypertension': [1 0]\n",
            "Unique Values in 'Diabetes': [0 1]\n",
            "Unique Values in 'Alcoholism': [0 1]\n",
            "Unique Values in 'Handicap': [0 1 2 3 4]\n",
            "Unique Values in 'SMS_received': [0 1]\n",
            "Unique Values in 'Noshow': [0 1]\n",
            "Unique Values in 'WeekDay': [29  3 10 17 24 31  2 30 16  4 19 12  6 20  5 13  9 25 11 18 14  7  1  8]\n",
            "Unique Values in 'DayScheduled': [29 27 26 28 25 20 31 19  6 18 11 12 15  1  5  8 14 13  7 17 30  4 21 23\n",
            " 22 16 10 24  2  3  9]\n"
          ]
        }
      ],
      "source": [
        "for column in df.columns:\n",
        "    print(\"Unique Values in '{}': {}\".format(column, df[column].unique()))\n"
      ]
    },
    {
      "cell_type": "markdown",
      "id": "6b8dc757-4f6e-492b-878b-7d09444dcb0a",
      "metadata": {
        "id": "6b8dc757-4f6e-492b-878b-7d09444dcb0a"
      },
      "source": [
        "In Age factor,we can see that there is a negative value and there are some strange values like ages above 100.So,what we are going to do is that we are considering only values between 0 and 95.Eventhough there are possibilities to live after 100 years, here I will treat the ages greater than 95 as outliers. Once I have made my assumptions, it is time to remove the impossible and the absurd from the data"
      ]
    },
    {
      "cell_type": "code",
      "execution_count": 35,
      "id": "ea35375e-1db0-461b-8f2b-a06bb75346e1",
      "metadata": {
        "id": "ea35375e-1db0-461b-8f2b-a06bb75346e1"
      },
      "outputs": [],
      "source": [
        "# Considering ages between 0 and 95 including both and drop the rest by considering them as outliers.\n",
        "df.drop(df[(df.Age < 0) & (df.Age > 95)].index, inplace = True)"
      ]
    },
    {
      "cell_type": "code",
      "execution_count": 36,
      "id": "b5a24b17-f33d-4733-a1cd-0c35a7fa22fe",
      "metadata": {
        "colab": {
          "base_uri": "https://localhost:8080/"
        },
        "id": "b5a24b17-f33d-4733-a1cd-0c35a7fa22fe",
        "outputId": "72a91390-a1d4-44d6-af60-68a1d6a4f3f4"
      },
      "outputs": [
        {
          "name": "stdout",
          "output_type": "stream",
          "text": [
            "<class 'pandas.core.frame.DataFrame'>\n",
            "RangeIndex: 110527 entries, 0 to 110526\n",
            "Data columns (total 14 columns):\n",
            " #   Column          Non-Null Count   Dtype         \n",
            "---  ------          --------------   -----         \n",
            " 0   Gender          110527 non-null  int64         \n",
            " 1   ScheduledDay    110527 non-null  datetime64[ns]\n",
            " 2   AppointmentDay  110527 non-null  datetime64[ns]\n",
            " 3   Age             110527 non-null  int64         \n",
            " 4   Neighbourhood   110527 non-null  object        \n",
            " 5   Scholarship     110527 non-null  int64         \n",
            " 6   Hypertension    110527 non-null  int64         \n",
            " 7   Diabetes        110527 non-null  int64         \n",
            " 8   Alcoholism      110527 non-null  int64         \n",
            " 9   Handicap        110527 non-null  int64         \n",
            " 10  SMS_received    110527 non-null  int64         \n",
            " 11  Noshow          110527 non-null  int64         \n",
            " 12  WeekDay         110527 non-null  int32         \n",
            " 13  DayScheduled    110527 non-null  int32         \n",
            "dtypes: datetime64[ns](2), int32(2), int64(9), object(1)\n",
            "memory usage: 11.0+ MB\n"
          ]
        }
      ],
      "source": [
        "df.info()"
      ]
    },
    {
      "cell_type": "markdown",
      "id": "3719fc2c-6b7a-4998-a5dd-3c92c567222c",
      "metadata": {
        "id": "3719fc2c-6b7a-4998-a5dd-3c92c567222c"
      },
      "source": [
        "# Data Exploration"
      ]
    },
    {
      "cell_type": "markdown",
      "id": "e6f4908b-6af9-42c8-816e-f8e1e4ded187",
      "metadata": {
        "id": "e6f4908b-6af9-42c8-816e-f8e1e4ded187"
      },
      "source": [
        "Analyzing the probability of showing up with respect to different features"
      ]
    },
    {
      "cell_type": "code",
      "execution_count": 37,
      "id": "0aead2e8-176b-4376-ada7-0bccd6b155c0",
      "metadata": {
        "colab": {
          "base_uri": "https://localhost:8080/"
        },
        "id": "0aead2e8-176b-4376-ada7-0bccd6b155c0",
        "outputId": "5d13823b-0142-4780-f29b-114afd176664"
      },
      "outputs": [
        {
          "name": "stderr",
          "output_type": "stream",
          "text": [
            "c:\\Users\\manit\\anaconda3\\envs\\ml\\Lib\\site-packages\\sklearn\\linear_model\\_logistic.py:469: ConvergenceWarning: lbfgs failed to converge (status=1):\n",
            "STOP: TOTAL NO. of ITERATIONS REACHED LIMIT.\n",
            "\n",
            "Increase the number of iterations (max_iter) or scale the data as shown in:\n",
            "    https://scikit-learn.org/stable/modules/preprocessing.html\n",
            "Please also refer to the documentation for alternative solver options:\n",
            "    https://scikit-learn.org/stable/modules/linear_model.html#logistic-regression\n",
            "  n_iter_i = _check_optimize_result(\n"
          ]
        },
        {
          "data": {
            "text/plain": [
              "79.68"
            ]
          },
          "execution_count": 37,
          "metadata": {},
          "output_type": "execute_result"
        }
      ],
      "source": [
        "x = df.drop(['Noshow','Neighbourhood','ScheduledDay','AppointmentDay'], axis=1)\n",
        "y = df['Noshow']\n",
        "x_train, x_test, y_train, y_test = train_test_split(x, y, test_size=0.4, random_state=42)\n",
        "logreg = LogisticRegression()\n",
        "logreg.fit(x_train, y_train)\n",
        "y_pred = logreg.predict(x_test)\n",
        "acc_log = round(logreg.score(x_train, y_train) * 100, 2)\n",
        "acc_log"
      ]
    },
    {
      "cell_type": "code",
      "execution_count": 38,
      "id": "119ac5cd",
      "metadata": {},
      "outputs": [
        {
          "data": {
            "text/html": [
              "<div>\n",
              "<style scoped>\n",
              "    .dataframe tbody tr th:only-of-type {\n",
              "        vertical-align: middle;\n",
              "    }\n",
              "\n",
              "    .dataframe tbody tr th {\n",
              "        vertical-align: top;\n",
              "    }\n",
              "\n",
              "    .dataframe thead th {\n",
              "        text-align: right;\n",
              "    }\n",
              "</style>\n",
              "<table border=\"1\" class=\"dataframe\">\n",
              "  <thead>\n",
              "    <tr style=\"text-align: right;\">\n",
              "      <th></th>\n",
              "      <th>Gender</th>\n",
              "      <th>Age</th>\n",
              "      <th>Scholarship</th>\n",
              "      <th>Hypertension</th>\n",
              "      <th>Diabetes</th>\n",
              "      <th>Alcoholism</th>\n",
              "      <th>Handicap</th>\n",
              "      <th>SMS_received</th>\n",
              "      <th>WeekDay</th>\n",
              "      <th>DayScheduled</th>\n",
              "    </tr>\n",
              "  </thead>\n",
              "  <tbody>\n",
              "    <tr>\n",
              "      <th>0</th>\n",
              "      <td>0</td>\n",
              "      <td>62</td>\n",
              "      <td>0</td>\n",
              "      <td>1</td>\n",
              "      <td>0</td>\n",
              "      <td>0</td>\n",
              "      <td>0</td>\n",
              "      <td>0</td>\n",
              "      <td>29</td>\n",
              "      <td>29</td>\n",
              "    </tr>\n",
              "    <tr>\n",
              "      <th>1</th>\n",
              "      <td>1</td>\n",
              "      <td>56</td>\n",
              "      <td>0</td>\n",
              "      <td>0</td>\n",
              "      <td>0</td>\n",
              "      <td>0</td>\n",
              "      <td>0</td>\n",
              "      <td>0</td>\n",
              "      <td>29</td>\n",
              "      <td>29</td>\n",
              "    </tr>\n",
              "    <tr>\n",
              "      <th>2</th>\n",
              "      <td>0</td>\n",
              "      <td>62</td>\n",
              "      <td>0</td>\n",
              "      <td>0</td>\n",
              "      <td>0</td>\n",
              "      <td>0</td>\n",
              "      <td>0</td>\n",
              "      <td>0</td>\n",
              "      <td>29</td>\n",
              "      <td>29</td>\n",
              "    </tr>\n",
              "    <tr>\n",
              "      <th>3</th>\n",
              "      <td>0</td>\n",
              "      <td>8</td>\n",
              "      <td>0</td>\n",
              "      <td>0</td>\n",
              "      <td>0</td>\n",
              "      <td>0</td>\n",
              "      <td>0</td>\n",
              "      <td>0</td>\n",
              "      <td>29</td>\n",
              "      <td>29</td>\n",
              "    </tr>\n",
              "    <tr>\n",
              "      <th>4</th>\n",
              "      <td>0</td>\n",
              "      <td>56</td>\n",
              "      <td>0</td>\n",
              "      <td>1</td>\n",
              "      <td>1</td>\n",
              "      <td>0</td>\n",
              "      <td>0</td>\n",
              "      <td>0</td>\n",
              "      <td>29</td>\n",
              "      <td>29</td>\n",
              "    </tr>\n",
              "  </tbody>\n",
              "</table>\n",
              "</div>"
            ],
            "text/plain": [
              "   Gender  Age  Scholarship  Hypertension  Diabetes  Alcoholism  Handicap  \\\n",
              "0       0   62            0             1         0           0         0   \n",
              "1       1   56            0             0         0           0         0   \n",
              "2       0   62            0             0         0           0         0   \n",
              "3       0    8            0             0         0           0         0   \n",
              "4       0   56            0             1         1           0         0   \n",
              "\n",
              "   SMS_received  WeekDay  DayScheduled  \n",
              "0             0       29            29  \n",
              "1             0       29            29  \n",
              "2             0       29            29  \n",
              "3             0       29            29  \n",
              "4             0       29            29  "
            ]
          },
          "execution_count": 38,
          "metadata": {},
          "output_type": "execute_result"
        }
      ],
      "source": [
        "x.head()"
      ]
    },
    {
      "cell_type": "code",
      "execution_count": 39,
      "id": "317e1244",
      "metadata": {},
      "outputs": [
        {
          "data": {
            "text/plain": [
              "Index(['Gender', 'Age', 'Scholarship', 'Hypertension', 'Diabetes',\n",
              "       'Alcoholism', 'Handicap', 'SMS_received', 'WeekDay', 'DayScheduled'],\n",
              "      dtype='object')"
            ]
          },
          "execution_count": 39,
          "metadata": {},
          "output_type": "execute_result"
        }
      ],
      "source": [
        "x_train.columns"
      ]
    },
    {
      "cell_type": "code",
      "execution_count": 40,
      "id": "8e792652",
      "metadata": {},
      "outputs": [
        {
          "data": {
            "text/plain": [
              "array([29, 27, 26, 28, 25, 20, 31, 19,  6, 18, 11, 12, 15,  1,  5,  8, 14,\n",
              "       13,  7, 17, 30,  4, 21, 23, 22, 16, 10, 24,  2,  3,  9])"
            ]
          },
          "execution_count": 40,
          "metadata": {},
          "output_type": "execute_result"
        }
      ],
      "source": [
        "x[\"DayScheduled\"].unique()"
      ]
    },
    {
      "cell_type": "code",
      "execution_count": 41,
      "id": "2a84887d",
      "metadata": {},
      "outputs": [
        {
          "data": {
            "text/plain": [
              "array([29,  3, 10, 17, 24, 31,  2, 30, 16,  4, 19, 12,  6, 20,  5, 13,  9,\n",
              "       25, 11, 18, 14,  7,  1,  8])"
            ]
          },
          "execution_count": 41,
          "metadata": {},
          "output_type": "execute_result"
        }
      ],
      "source": [
        "x['WeekDay'].unique()"
      ]
    },
    {
      "cell_type": "code",
      "execution_count": 42,
      "id": "8692c65d",
      "metadata": {},
      "outputs": [
        {
          "data": {
            "text/plain": [
              "0    0\n",
              "1    0\n",
              "2    0\n",
              "3    0\n",
              "4    0\n",
              "Name: Noshow, dtype: int64"
            ]
          },
          "execution_count": 42,
          "metadata": {},
          "output_type": "execute_result"
        }
      ],
      "source": [
        "y.head()"
      ]
    },
    {
      "cell_type": "code",
      "execution_count": 44,
      "id": "e99ade0f",
      "metadata": {},
      "outputs": [],
      "source": [
        "from sklearn.neighbors import KNeighborsClassifier\n",
        "from sklearn.tree import DecisionTreeClassifier\n",
        "from sklearn.metrics import accuracy_score\n",
        "from sklearn.svm import SVC"
      ]
    },
    {
      "cell_type": "code",
      "execution_count": 48,
      "id": "c868abf6",
      "metadata": {},
      "outputs": [
        {
          "name": "stderr",
          "output_type": "stream",
          "text": [
            "c:\\Users\\manit\\anaconda3\\envs\\ml\\Lib\\site-packages\\sklearn\\linear_model\\_logistic.py:469: ConvergenceWarning: lbfgs failed to converge (status=1):\n",
            "STOP: TOTAL NO. of ITERATIONS REACHED LIMIT.\n",
            "\n",
            "Increase the number of iterations (max_iter) or scale the data as shown in:\n",
            "    https://scikit-learn.org/stable/modules/preprocessing.html\n",
            "Please also refer to the documentation for alternative solver options:\n",
            "    https://scikit-learn.org/stable/modules/linear_model.html#logistic-regression\n",
            "  n_iter_i = _check_optimize_result(\n"
          ]
        },
        {
          "data": {
            "text/plain": [
              "0.8000045237610549"
            ]
          },
          "execution_count": 48,
          "metadata": {},
          "output_type": "execute_result"
        }
      ],
      "source": [
        "lg = LogisticRegression()\n",
        "lg.fit(x_train, y_train)\n",
        "y_pred_lg = lg.predict(x_test)\n",
        "accuracy_score(y_pred_lg, y_test)"
      ]
    },
    {
      "cell_type": "code",
      "execution_count": 45,
      "id": "ceea90bd",
      "metadata": {},
      "outputs": [
        {
          "name": "stdout",
          "output_type": "stream",
          "text": [
            "SVM Accuracy: 80.0\n"
          ]
        }
      ],
      "source": [
        "svm = SVC()\n",
        "svm.fit(x_train, y_train)\n",
        "y_pred_svm = svm.predict(x_test)\n",
        "acc_svm = round(accuracy_score(y_test, y_pred_svm) * 100, 2)\n",
        "print(\"SVM Accuracy:\", acc_svm)"
      ]
    },
    {
      "cell_type": "code",
      "execution_count": 46,
      "id": "025ea6f6",
      "metadata": {},
      "outputs": [
        {
          "name": "stdout",
          "output_type": "stream",
          "text": [
            "Model saved successfully as svm_model.pkl\n"
          ]
        }
      ],
      "source": [
        "import pickle\n",
        "\n",
        "# Let's say `model` is your trained ML model (e.g., from SVM, LogisticRegression, etc.)\n",
        "# Example: model = SVC().fit(X_train, y_train)\n",
        "\n",
        "# Save the model to a file\n",
        "with open('svm_model_final.pkl', 'wb') as file:\n",
        "    pickle.dump(svm, file)\n",
        "\n",
        "print(\"Model saved successfully as svm_model.pkl\")\n"
      ]
    },
    {
      "cell_type": "code",
      "execution_count": null,
      "id": "d2efa057",
      "metadata": {},
      "outputs": [],
      "source": []
    },
    {
      "cell_type": "code",
      "execution_count": null,
      "id": "bc67c4a4",
      "metadata": {},
      "outputs": [],
      "source": []
    },
    {
      "cell_type": "code",
      "execution_count": null,
      "id": "a43d7c10",
      "metadata": {},
      "outputs": [],
      "source": []
    },
    {
      "cell_type": "code",
      "execution_count": null,
      "id": "6740f7f7",
      "metadata": {},
      "outputs": [],
      "source": []
    },
    {
      "cell_type": "code",
      "execution_count": null,
      "id": "f966160b",
      "metadata": {},
      "outputs": [],
      "source": []
    },
    {
      "cell_type": "code",
      "execution_count": null,
      "metadata": {},
      "outputs": [],
      "source": []
    },
    {
      "cell_type": "code",
      "execution_count": null,
      "id": "6b33967c",
      "metadata": {},
      "outputs": [],
      "source": []
    },
    {
      "cell_type": "code",
      "execution_count": null,
      "id": "5dbd3930",
      "metadata": {},
      "outputs": [],
      "source": []
    },
    {
      "cell_type": "code",
      "execution_count": null,
      "id": "64c46e36-8498-4d22-aeca-e514e5490b4b",
      "metadata": {
        "colab": {
          "base_uri": "https://localhost:8080/"
        },
        "id": "64c46e36-8498-4d22-aeca-e514e5490b4b",
        "outputId": "1966f5fe-cfa0-4c66-83ef-b6be0aa91ada"
      },
      "outputs": [
        {
          "name": "stdout",
          "output_type": "stream",
          "text": [
            "Logistic Regression Accuracy: 79.68\n",
            "KNN Accuracy: 77.15\n",
            "Decision Tree Accuracy: 73.25\n"
          ]
        }
      ],
      "source": [
        "from sklearn.neighbors import KNeighborsClassifier\n",
        "from sklearn.tree import DecisionTreeClassifier\n",
        "from sklearn.metrics import accuracy_score\n",
        "from sklearn.svm import SVC\n",
        "\n",
        "# KNN Algorithm\n",
        "knn = KNeighborsClassifier()\n",
        "knn.fit(x_train, y_train)\n",
        "y_pred_knn = knn.predict(x_test)\n",
        "acc_knn = round(accuracy_score(y_test, y_pred_knn) * 100, 2)\n",
        "\n",
        "# Decision Tree Algorithm\n",
        "decision_tree = DecisionTreeClassifier()\n",
        "decision_tree.fit(x_train, y_train)\n",
        "y_pred_dt = decision_tree.predict(x_test)\n",
        "acc_dt = round(accuracy_score(y_test, y_pred_dt) * 100, 2)\n",
        "\n",
        "print(\"Logistic Regression Accuracy:\", acc_log)\n",
        "print(\"KNN Accuracy:\", acc_knn)\n",
        "print(\"Decision Tree Accuracy:\", acc_dt)\n",
        "\n",
        "\n",
        "# SVM Algorithm\n",
        "svm = SVC()\n",
        "svm.fit(x_train, y_train)\n",
        "y_pred_svm = svm.predict(x_test)\n",
        "acc_svm = round(accuracy_score(y_test, y_pred_svm) * 100, 2)\n",
        "\n",
        "# Print SVM Accuracy\n",
        "print(\"SVM Accuracy:\", acc_svm)"
      ]
    },
    {
      "cell_type": "code",
      "execution_count": null,
      "id": "601595b2-b91c-4b5f-b765-439681596bf2",
      "metadata": {
        "colab": {
          "base_uri": "https://localhost:8080/"
        },
        "id": "601595b2-b91c-4b5f-b765-439681596bf2",
        "outputId": "c32ad66b-83a5-46db-c608-e4e72d4fd53d"
      },
      "outputs": [
        {
          "name": "stdout",
          "output_type": "stream",
          "text": [
            "Logistic Regression Classification Report:\n",
            "              precision    recall  f1-score   support\n",
            "\n",
            "           0       0.80      1.00      0.89     35369\n",
            "           1       0.36      0.01      0.02      8842\n",
            "\n",
            "    accuracy                           0.80     44211\n",
            "   macro avg       0.58      0.50      0.45     44211\n",
            "weighted avg       0.71      0.80      0.71     44211\n",
            "\n",
            "\n",
            "KNN Classification Report:\n",
            "              precision    recall  f1-score   support\n",
            "\n",
            "           0       0.82      0.92      0.87     35369\n",
            "           1       0.36      0.17      0.23      8842\n",
            "\n",
            "    accuracy                           0.77     44211\n",
            "   macro avg       0.59      0.55      0.55     44211\n",
            "weighted avg       0.72      0.77      0.74     44211\n",
            "\n",
            "\n",
            "Decision Tree Classification Report:\n",
            "              precision    recall  f1-score   support\n",
            "\n",
            "           0       0.82      0.85      0.83     35369\n",
            "           1       0.31      0.28      0.30      8842\n",
            "\n",
            "    accuracy                           0.73     44211\n",
            "   macro avg       0.57      0.56      0.57     44211\n",
            "weighted avg       0.72      0.73      0.73     44211\n",
            "\n",
            "\n",
            "SVM Classification Report:\n",
            "              precision    recall  f1-score   support\n",
            "\n",
            "           0       0.80      1.00      0.89     35369\n",
            "           1       0.00      0.00      0.00      8842\n",
            "\n",
            "    accuracy                           0.80     44211\n",
            "   macro avg       0.40      0.50      0.44     44211\n",
            "weighted avg       0.64      0.80      0.71     44211\n",
            "\n"
          ]
        },
        {
          "name": "stderr",
          "output_type": "stream",
          "text": [
            "/usr/local/lib/python3.11/dist-packages/sklearn/metrics/_classification.py:1565: UndefinedMetricWarning: Precision is ill-defined and being set to 0.0 in labels with no predicted samples. Use `zero_division` parameter to control this behavior.\n",
            "  _warn_prf(average, modifier, f\"{metric.capitalize()} is\", len(result))\n",
            "/usr/local/lib/python3.11/dist-packages/sklearn/metrics/_classification.py:1565: UndefinedMetricWarning: Precision is ill-defined and being set to 0.0 in labels with no predicted samples. Use `zero_division` parameter to control this behavior.\n",
            "  _warn_prf(average, modifier, f\"{metric.capitalize()} is\", len(result))\n",
            "/usr/local/lib/python3.11/dist-packages/sklearn/metrics/_classification.py:1565: UndefinedMetricWarning: Precision is ill-defined and being set to 0.0 in labels with no predicted samples. Use `zero_division` parameter to control this behavior.\n",
            "  _warn_prf(average, modifier, f\"{metric.capitalize()} is\", len(result))\n"
          ]
        }
      ],
      "source": [
        "from sklearn.metrics import classification_report\n",
        "\n",
        "# Logistic Regression Classification Report\n",
        "print(\"Logistic Regression Classification Report:\")\n",
        "print(classification_report(y_test, y_pred))\n",
        "\n",
        "# KNN Classification Report\n",
        "print(\"\\nKNN Classification Report:\")\n",
        "print(classification_report(y_test, y_pred_knn))\n",
        "\n",
        "# Decision Tree Classification Report\n",
        "print(\"\\nDecision Tree Classification Report:\")\n",
        "print(classification_report(y_test, y_pred_dt))\n",
        "print(\"\\nSVM Classification Report:\")\n",
        "print(classification_report(y_test, y_pred_svm))"
      ]
    },
    {
      "cell_type": "code",
      "execution_count": null,
      "id": "6da7bd11-8507-4447-932a-2529a5953c04",
      "metadata": {
        "colab": {
          "base_uri": "https://localhost:8080/"
        },
        "id": "6da7bd11-8507-4447-932a-2529a5953c04",
        "outputId": "e37b8a1a-621c-46ce-dac6-a63d8fa577cb"
      },
      "outputs": [
        {
          "name": "stdout",
          "output_type": "stream",
          "text": [
            "Logistic Regression:\n",
            "Precision: 0.7128754569564838\n",
            "Recall: 0.7987378706656715\n",
            "F1-score: 0.7135553629743828\n",
            "\n",
            "KNN:\n",
            "Precision: 0.7244732269111729\n",
            "Recall: 0.7723417249100902\n",
            "F1-score: 0.7393241840007685\n",
            "\n",
            "Decision Tree:\n",
            "Precision: 0.7223878273100114\n",
            "Recall: 0.7324647712107847\n",
            "F1-score: 0.7271684946773116\n",
            "\n",
            "SVM:\n",
            "Precision: 0.6400072380381523\n",
            "Recall: 0.8000045237610549\n",
            "F1-score: 0.7111173661951433\n"
          ]
        },
        {
          "name": "stderr",
          "output_type": "stream",
          "text": [
            "/usr/local/lib/python3.11/dist-packages/sklearn/metrics/_classification.py:1565: UndefinedMetricWarning: Precision is ill-defined and being set to 0.0 in labels with no predicted samples. Use `zero_division` parameter to control this behavior.\n",
            "  _warn_prf(average, modifier, f\"{metric.capitalize()} is\", len(result))\n"
          ]
        }
      ],
      "source": [
        "from sklearn.metrics import precision_recall_fscore_support\n",
        "\n",
        "# Logistic Regression Precision, Recall, F1-score\n",
        "precision_lr, recall_lr, f1_lr, _ = precision_recall_fscore_support(y_test, y_pred, average='weighted')\n",
        "print(\"Logistic Regression:\")\n",
        "print(\"Precision:\", precision_lr)\n",
        "print(\"Recall:\", recall_lr)\n",
        "print(\"F1-score:\", f1_lr)\n",
        "\n",
        "# KNN Precision, Recall, F1-score\n",
        "precision_knn, recall_knn, f1_knn, _ = precision_recall_fscore_support(y_test, y_pred_knn, average='weighted')\n",
        "print(\"\\nKNN:\")\n",
        "print(\"Precision:\", precision_knn)\n",
        "print(\"Recall:\", recall_knn)\n",
        "print(\"F1-score:\", f1_knn)\n",
        "\n",
        "# Decision Tree Precision, Recall, F1-score\n",
        "precision_dt, recall_dt, f1_dt, _ = precision_recall_fscore_support(y_test, y_pred_dt, average='weighted')\n",
        "print(\"\\nDecision Tree:\")\n",
        "print(\"Precision:\", precision_dt)\n",
        "print(\"Recall:\", recall_dt)\n",
        "print(\"F1-score:\", f1_dt)\n",
        "\n",
        "# SVM Precision, Recall, F1-score\n",
        "precision_svm, recall_svm, f1_svm, _ = precision_recall_fscore_support(y_test, y_pred_svm, average='weighted')\n",
        "print(\"\\nSVM:\")\n",
        "print(\"Precision:\", precision_svm)\n",
        "print(\"Recall:\", recall_svm)\n",
        "print(\"F1-score:\", f1_svm)\n"
      ]
    },
    {
      "cell_type": "code",
      "execution_count": null,
      "id": "a22fe44b-45ef-4f80-9f8c-0a2c701a22dc",
      "metadata": {
        "colab": {
          "base_uri": "https://localhost:8080/"
        },
        "id": "a22fe44b-45ef-4f80-9f8c-0a2c701a22dc",
        "outputId": "888d011d-1aa0-4adb-d3c4-7a3e319bd451"
      },
      "outputs": [
        {
          "name": "stdout",
          "output_type": "stream",
          "text": [
            "\n",
            "Lasso Regression:\n",
            "Precision: 0.6400072380381523\n",
            "Recall: 0.8000045237610549\n",
            "F1-score: 0.7111173661951433\n"
          ]
        },
        {
          "name": "stderr",
          "output_type": "stream",
          "text": [
            "/usr/local/lib/python3.11/dist-packages/sklearn/metrics/_classification.py:1565: UndefinedMetricWarning: Precision is ill-defined and being set to 0.0 in labels with no predicted samples. Use `zero_division` parameter to control this behavior.\n",
            "  _warn_prf(average, modifier, f\"{metric.capitalize()} is\", len(result))\n"
          ]
        }
      ],
      "source": [
        "from sklearn.linear_model import Lasso\n",
        "\n",
        "# Lasso Regression\n",
        "lasso = Lasso()\n",
        "lasso.fit(x_train, y_train)\n",
        "y_pred_lasso = lasso.predict(x_test)\n",
        "\n",
        "# Convert predicted probabilities to binary predictions (0 or 1)\n",
        "y_pred_lasso_binary = [1 if pred > 0.5 else 0 for pred in y_pred_lasso]\n",
        "\n",
        "# Lasso Regression Precision, Recall, F1-score\n",
        "precision_lasso, recall_lasso, f1_lasso, _ = precision_recall_fscore_support(y_test, y_pred_lasso_binary, average='weighted')\n",
        "print(\"\\nLasso Regression:\")\n",
        "print(\"Precision:\", precision_lasso)\n",
        "print(\"Recall:\", recall_lasso)\n",
        "print(\"F1-score:\", f1_lasso)\n"
      ]
    },
    {
      "cell_type": "code",
      "execution_count": null,
      "id": "47f9b9c3-2b4e-4163-93a6-99e44814ec20",
      "metadata": {
        "colab": {
          "base_uri": "https://localhost:8080/",
          "height": 595
        },
        "id": "47f9b9c3-2b4e-4163-93a6-99e44814ec20",
        "outputId": "32dae80b-ddeb-4aa6-a221-61938325e23d"
      },
      "outputs": [
        {
          "data": {
            "image/png": "[encoded data removed]",
            "text/plain": [
              "<Figure size 2000x1000 with 1 Axes>"
            ]
          },
          "metadata": {},
          "output_type": "display_data"
        }
      ],
      "source": [
        "import numpy as np\n",
        "import matplotlib.pyplot as plt\n",
        "\n",
        "# List of alpha values (lambda values)\n",
        "alphas = np.logspace(-4, 0, 100)\n",
        "\n",
        "# Initialize an empty list to store the coefficients for each alpha\n",
        "coefs = []\n",
        "\n",
        "# Fit the Lasso regression model for each alpha and store the coefficients\n",
        "for alpha in alphas:\n",
        "    lasso = Lasso(alpha=alpha)\n",
        "    lasso.fit(x_train, y_train)\n",
        "    coefs.append(lasso.coef_)\n",
        "\n",
        "# Plot the coefficients against the log(alpha) values\n",
        "plt.figure(figsize=(20, 10))\n",
        "plt.plot(np.log(alphas), coefs)\n",
        "plt.xlabel('log(alpha)')\n",
        "plt.ylabel('Coefficients')\n",
        "plt.title('Lasso Regression Coefficients vs. log(alpha)')\n",
        "plt.legend(x.columns, loc='upper right')\n",
        "plt.show()\n"
      ]
    },
    {
      "cell_type": "code",
      "execution_count": null,
      "id": "507296a9-a845-4f82-a059-da7118d48f8c",
      "metadata": {
        "colab": {
          "base_uri": "https://localhost:8080/"
        },
        "id": "507296a9-a845-4f82-a059-da7118d48f8c",
        "outputId": "3ef2dda5-3d92-430c-a8c8-b0ee966a5d0e"
      },
      "outputs": [
        {
          "name": "stdout",
          "output_type": "stream",
          "text": [
            "Logistic Regression:\n",
            "Precision: 0.7128754569564838\n",
            "Recall: 0.7987378706656715\n",
            "F1-score: 0.7135553629743828\n",
            "\n",
            "KNN:\n",
            "Precision: 0.7244732269111729\n",
            "Recall: 0.7723417249100902\n",
            "F1-score: 0.7393241840007685\n",
            "\n",
            "Decision Tree:\n",
            "Precision: 0.7223878273100114\n",
            "Recall: 0.7324647712107847\n",
            "F1-score: 0.7271684946773116\n",
            "\n",
            "SVM:\n",
            "Precision: 0.6400072380381523\n",
            "Recall: 0.8000045237610549\n",
            "F1-score: 0.7111173661951433\n"
          ]
        },
        {
          "name": "stderr",
          "output_type": "stream",
          "text": [
            "/usr/local/lib/python3.11/dist-packages/sklearn/metrics/_classification.py:1565: UndefinedMetricWarning: Precision is ill-defined and being set to 0.0 in labels with no predicted samples. Use `zero_division` parameter to control this behavior.\n",
            "  _warn_prf(average, modifier, f\"{metric.capitalize()} is\", len(result))\n"
          ]
        },
        {
          "name": "stdout",
          "output_type": "stream",
          "text": [
            "\n",
            "Lasso Regression:\n",
            "Precision: 0.6400072380381523\n",
            "Recall: 0.8000045237610549\n",
            "F1-score: 0.7111173661951433\n",
            "\n",
            "Best Model: SVM with Accuracy: 80.0%\n",
            "SVM saved as svm_model.pkl\n"
          ]
        },
        {
          "name": "stderr",
          "output_type": "stream",
          "text": [
            "/usr/local/lib/python3.11/dist-packages/sklearn/linear_model/_logistic.py:465: ConvergenceWarning: lbfgs failed to converge (status=1):\n",
            "STOP: TOTAL NO. OF ITERATIONS REACHED LIMIT.\n",
            "\n",
            "Increase the number of iterations (max_iter) or scale the data as shown in:\n",
            "    https://scikit-learn.org/stable/modules/preprocessing.html\n",
            "Please also refer to the documentation for alternative solver options:\n",
            "    https://scikit-learn.org/stable/modules/linear_model.html#logistic-regression\n",
            "  n_iter_i = _check_optimize_result(\n",
            "/usr/local/lib/python3.11/dist-packages/sklearn/metrics/_classification.py:1565: UndefinedMetricWarning: Precision is ill-defined and being set to 0.0 in labels with no predicted samples. Use `zero_division` parameter to control this behavior.\n",
            "  _warn_prf(average, modifier, f\"{metric.capitalize()} is\", len(result))\n"
          ]
        }
      ],
      "source": [
        "from sklearn.metrics import precision_recall_fscore_support\n",
        "from sklearn.linear_model import Lasso\n",
        "import pickle\n",
        "\n",
        "# Logistic Regression Precision, Recall, F1-score\n",
        "precision_lr, recall_lr, f1_lr, _ = precision_recall_fscore_support(y_test, y_pred, average='weighted')\n",
        "print(\"Logistic Regression:\")\n",
        "print(\"Precision:\", precision_lr)\n",
        "print(\"Recall:\", recall_lr)\n",
        "print(\"F1-score:\", f1_lr)\n",
        "\n",
        "# KNN Precision, Recall, F1-score\n",
        "precision_knn, recall_knn, f1_knn, _ = precision_recall_fscore_support(y_test, y_pred_knn, average='weighted')\n",
        "print(\"\\nKNN:\")\n",
        "print(\"Precision:\", precision_knn)\n",
        "print(\"Recall:\", recall_knn)\n",
        "print(\"F1-score:\", f1_knn)\n",
        "\n",
        "# Decision Tree Precision, Recall, F1-score\n",
        "precision_dt, recall_dt, f1_dt, _ = precision_recall_fscore_support(y_test, y_pred_dt, average='weighted')\n",
        "print(\"\\nDecision Tree:\")\n",
        "print(\"Precision:\", precision_dt)\n",
        "print(\"Recall:\", recall_dt)\n",
        "print(\"F1-score:\", f1_dt)\n",
        "\n",
        "# SVM Precision, Recall, F1-score\n",
        "precision_svm, recall_svm, f1_svm, _ = precision_recall_fscore_support(y_test, y_pred_svm, average='weighted')\n",
        "print(\"\\nSVM:\")\n",
        "print(\"Precision:\", precision_svm)\n",
        "print(\"Recall:\", recall_svm)\n",
        "print(\"F1-score:\", f1_svm)\n",
        "from sklearn.linear_model import LogisticRegression\n",
        "from sklearn.metrics import accuracy_score\n",
        "\n",
        "# Train Logistic Regression\n",
        "log_reg = LogisticRegression()\n",
        "log_reg.fit(x_train, y_train)\n",
        "y_pred = log_reg.predict(x_test)\n",
        "\n",
        "# Calculate accuracy\n",
        "acc_log = round(accuracy_score(y_test, y_pred) * 100, 2)\n",
        "\n",
        "\n",
        "# Lasso Regression\n",
        "lasso = Lasso()\n",
        "lasso.fit(x_train, y_train)\n",
        "y_pred_lasso = lasso.predict(x_test)\n",
        "\n",
        "# Convert predicted probabilities to binary predictions (0 or 1)\n",
        "y_pred_lasso_binary = [1 if pred > 0.5 else 0 for pred in y_pred_lasso]\n",
        "\n",
        "# Lasso Regression Precision, Recall, F1-score\n",
        "precision_lasso, recall_lasso, f1_lasso, _ = precision_recall_fscore_support(y_test, y_pred_lasso_binary, average='weighted')\n",
        "print(\"\\nLasso Regression:\")\n",
        "print(\"Precision:\", precision_lasso)\n",
        "print(\"Recall:\", recall_lasso)\n",
        "print(\"F1-score:\", f1_lasso)\n",
        "\n",
        "# Create a dictionary of model names to their instances and accuracies\n",
        "models = {\n",
        "    \"Logistic Regression\": (log_reg, acc_log),\n",
        "    \"KNN\": (knn, acc_knn),\n",
        "    \"Decision Tree\": (decision_tree, acc_dt),\n",
        "    \"SVM\": (svm, acc_svm)\n",
        "}\n",
        "\n",
        "# Find the model with the highest accuracy\n",
        "best_model_name, (best_model, best_acc) = max(models.items(), key=lambda item: item[1][1])\n",
        "print(f\"\\nBest Model: {best_model_name} with Accuracy: {best_acc}%\")\n",
        "\n",
        "# Save the best model to a .pkl file\n",
        "filename = f\"{best_model_name.replace(' ', '_').lower()}_model.pkl\"\n",
        "with open(filename, \"wb\") as f:\n",
        "    pickle.dump(best_model, f)\n",
        "\n",
        "print(f\"{best_model_name} saved as {filename}\")\n"
      ]
    },
    {
      "cell_type": "code",
      "execution_count": null,
      "id": "1dbf0b9e-dd18-4064-9f12-ad00979eb12d",
      "metadata": {
        "id": "1dbf0b9e-dd18-4064-9f12-ad00979eb12d"
      },
      "outputs": [],
      "source": []
    }
  ],
  "metadata": {
    "colab": {
      "provenance": []
    },
    "kernelspec": {
      "display_name": "ml",
      "language": "python",
      "name": "python3"
    },
    "language_info": {
      "codemirror_mode": {
        "name": "ipython",
        "version": 3
      },
      "file_extension": ".py",
      "mimetype": "text/x-python",
      "name": "python",
      "nbconvert_exporter": "python",
      "pygments_lexer": "ipython3",
      "version": "3.12.4"
    }
  },
  "nbformat": 4,
  "nbformat_minor": 5
}
